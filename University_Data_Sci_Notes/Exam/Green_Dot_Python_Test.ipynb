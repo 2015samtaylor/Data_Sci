{
 "cells": [
  {
   "cell_type": "code",
   "execution_count": 2,
   "id": "cdaa153a",
   "metadata": {},
   "outputs": [],
   "source": [
    "#Import packages\n",
    "import pandas as pd\n",
    "\n",
    "#DataQuest URL\n",
    "lea_url = 'https://data1.cde.ca.gov/dataquest/dqcensus/EnrEthGrd.aspx?cds=19647091996313&agglevel=school&year=2020-21'"
   ]
  },
  {
   "cell_type": "code",
   "execution_count": 9,
   "id": "a9aed44a",
   "metadata": {},
   "outputs": [],
   "source": [
    "df = pd.read_html(lea_url)[1]"
   ]
  },
  {
   "cell_type": "code",
   "execution_count": 296,
   "id": "1387271a",
   "metadata": {},
   "outputs": [],
   "source": [
    "df = pd.melt(df, id_vars=['Ethnicity'],\n",
    "            var_name = 'Grade Level', value_name = 'LEA Total')"
   ]
  },
  {
   "cell_type": "code",
   "execution_count": 297,
   "id": "d4b272cd",
   "metadata": {},
   "outputs": [
    {
     "data": {
      "text/html": [
       "<div>\n",
       "<style scoped>\n",
       "    .dataframe tbody tr th:only-of-type {\n",
       "        vertical-align: middle;\n",
       "    }\n",
       "\n",
       "    .dataframe tbody tr th {\n",
       "        vertical-align: top;\n",
       "    }\n",
       "\n",
       "    .dataframe thead th {\n",
       "        text-align: right;\n",
       "    }\n",
       "</style>\n",
       "<table border=\"1\" class=\"dataframe\">\n",
       "  <thead>\n",
       "    <tr style=\"text-align: right;\">\n",
       "      <th></th>\n",
       "      <th>Ethnicity</th>\n",
       "      <th>Grade Level</th>\n",
       "      <th>LEA Total</th>\n",
       "    </tr>\n",
       "  </thead>\n",
       "  <tbody>\n",
       "    <tr>\n",
       "      <th>0</th>\n",
       "      <td>African American</td>\n",
       "      <td>9</td>\n",
       "      <td>0</td>\n",
       "    </tr>\n",
       "    <tr>\n",
       "      <th>1</th>\n",
       "      <td>Hispanic or Latino</td>\n",
       "      <td>9</td>\n",
       "      <td>176</td>\n",
       "    </tr>\n",
       "    <tr>\n",
       "      <th>2</th>\n",
       "      <td>African American</td>\n",
       "      <td>10</td>\n",
       "      <td>1</td>\n",
       "    </tr>\n",
       "    <tr>\n",
       "      <th>3</th>\n",
       "      <td>Hispanic or Latino</td>\n",
       "      <td>10</td>\n",
       "      <td>171</td>\n",
       "    </tr>\n",
       "    <tr>\n",
       "      <th>4</th>\n",
       "      <td>African American</td>\n",
       "      <td>11</td>\n",
       "      <td>1</td>\n",
       "    </tr>\n",
       "    <tr>\n",
       "      <th>5</th>\n",
       "      <td>Hispanic or Latino</td>\n",
       "      <td>11</td>\n",
       "      <td>156</td>\n",
       "    </tr>\n",
       "    <tr>\n",
       "      <th>6</th>\n",
       "      <td>African American</td>\n",
       "      <td>12</td>\n",
       "      <td>2</td>\n",
       "    </tr>\n",
       "    <tr>\n",
       "      <th>7</th>\n",
       "      <td>Hispanic or Latino</td>\n",
       "      <td>12</td>\n",
       "      <td>140</td>\n",
       "    </tr>\n",
       "  </tbody>\n",
       "</table>\n",
       "</div>"
      ],
      "text/plain": [
       "            Ethnicity  Grade Level  LEA Total\n",
       "0    African American            9          0\n",
       "1  Hispanic or Latino            9        176\n",
       "2    African American           10          1\n",
       "3  Hispanic or Latino           10        171\n",
       "4    African American           11          1\n",
       "5  Hispanic or Latino           11        156\n",
       "6    African American           12          2\n",
       "7  Hispanic or Latino           12        140"
      ]
     },
     "execution_count": 297,
     "metadata": {},
     "output_type": "execute_result"
    }
   ],
   "source": [
    "filtered_df = df.loc[(df['Ethnicity'] == 'African American') | (df['Ethnicity'] == 'Hispanic or Latino')]\n",
    "\n",
    "high_school = ['Grade 9', 'Grade 10', 'Grade 11', 'Grade 12']\n",
    "filtered_df = filtered_df[filtered_df['Grade Level'].isin(high_school)]\n",
    "\n",
    "filtered_df['Grade Level'] = filtered_df['Grade Level'].str.extract('(\\d+)').astype(int)\n",
    "\n",
    "filtered_df = filtered_df.sort_values(by = 'Grade Level', ascending = True)\n",
    "filtered_df.reset_index(drop = True, inplace = True)\n",
    "filtered_df"
   ]
  },
  {
   "cell_type": "code",
   "execution_count": null,
   "id": "6596e80c",
   "metadata": {},
   "outputs": [],
   "source": [
    "# create a new data frame that identifies Ethnicity equal to \"African American\" or \"Hispanic or Latino\"\n",
    "# save as filtered_df\n",
    "\n",
    "# Use filtered_df 'Grade Level' column to identify any string values that are between Grade 9-12. Save over filtered_df. \n",
    "\n",
    "# Lastly, extract all numeric values over 'Grade Level' column change to type integer & save as new 'Grade Level' column. \n",
    "# Sort filtered_df on 'Grade Level' in ascending order & reset the index. \n"
   ]
  }
 ],
 "metadata": {
  "kernelspec": {
   "display_name": "Python 3",
   "language": "python",
   "name": "python3"
  },
  "language_info": {
   "codemirror_mode": {
    "name": "ipython",
    "version": 3
   },
   "file_extension": ".py",
   "mimetype": "text/x-python",
   "name": "python",
   "nbconvert_exporter": "python",
   "pygments_lexer": "ipython3",
   "version": "3.8.3"
  }
 },
 "nbformat": 4,
 "nbformat_minor": 5
}
