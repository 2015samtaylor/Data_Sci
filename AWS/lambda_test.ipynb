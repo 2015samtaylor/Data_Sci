{
 "cells": [
  {
   "cell_type": "markdown",
   "id": "4e5a9735",
   "metadata": {},
   "source": [
    "# Local"
   ]
  },
  {
   "cell_type": "code",
   "execution_count": 6,
   "id": "9c7195da",
   "metadata": {},
   "outputs": [
    {
     "name": "stdout",
     "output_type": "stream",
     "text": [
      "{'message': 'Hello jack! You have visited this page 1 times'}\n"
     ]
    }
   ],
   "source": [
    "import boto3\n",
    "import pandas as pd\n",
    "import os\n",
    "from config import aws_access_key_id, aws_secret_access_key\n",
    "region = 'us-east-1'\n",
    "\n",
    "session = boto3.Session(aws_access_key_id=aws_access_key_id,\n",
    "                        aws_secret_access_key=aws_secret_access_key,\n",
    "                        region_name=region)\n",
    "    \n",
    "dynamodb_resource = session.resource('dynamodb')\n",
    "\n",
    "\n",
    "def lambda_handler(event: any, context: any):\n",
    "    \n",
    "    user = event['user']\n",
    "    visit_count: int = 0\n",
    "        \n",
    "    table_name = os.environ['TABLE_NAME']\n",
    "    table = dynamodb_resource.Table(table_name)\n",
    "    response = table.get_item(Key={'user': user})\n",
    "    \n",
    "    if \"Item\" in response:\n",
    "        visit_count = response['Item']['count']\n",
    "        \n",
    "        \n",
    "    visit_count =+ 1\n",
    "    \n",
    "    table.put_item(Item= {'user': user, 'count': visit_count})\n",
    "    \n",
    "    \n",
    "    message = f'Hello {user}! You have visited this page {visit_count} times'\n",
    "    return{'message' :  message}\n",
    "\n",
    "\n",
    "if __name__== '__main__':\n",
    "    os.environ['TABLE_NAME'] = 'visit_count_table'\n",
    "    event = {'user': 'jack'}\n",
    "    print(lambda_handler(event, None))"
   ]
  },
  {
   "cell_type": "markdown",
   "id": "5e0a37b2",
   "metadata": {},
   "source": [
    "# Official Lambda"
   ]
  },
  {
   "cell_type": "code",
   "execution_count": null,
   "id": "f89fbc32",
   "metadata": {},
   "outputs": [],
   "source": [
    "import boto3\n",
    "import os\n",
    "\n",
    "\n",
    "def lambda_handler(event: any, context: any):\n",
    "    \n",
    "    user = event['user']\n",
    "    visit_count: int = 0\n",
    "        \n",
    "    dynamodb = boto3.resource(\"dynamodb\")\n",
    "    table_name = os.environ['TABLE_NAME']\n",
    "    table = dynamodb.Table(table_name)\n",
    "    \n",
    "    \n",
    "    response = table.get_item(Key={'user': user})\n",
    "    \n",
    "    if \"Item\" in response:\n",
    "        visit_count = response['Item']['count']\n",
    "        \n",
    "        \n",
    "    visit_count =+ 1\n",
    "    \n",
    "    table.put_item(Item= {'user': user, 'count': visit_count})\n",
    "    \n",
    "    \n",
    "    message = f'Hello {user}! You have visited this page {visit_count} times'\n",
    "    return{'message' :  message}"
   ]
  }
 ],
 "metadata": {
  "kernelspec": {
   "display_name": "Python 3 (ipykernel)",
   "language": "python",
   "name": "python3"
  },
  "language_info": {
   "codemirror_mode": {
    "name": "ipython",
    "version": 3
   },
   "file_extension": ".py",
   "mimetype": "text/x-python",
   "name": "python",
   "nbconvert_exporter": "python",
   "pygments_lexer": "ipython3",
   "version": "3.9.7"
  }
 },
 "nbformat": 4,
 "nbformat_minor": 5
}
