{
 "cells": [
  {
   "cell_type": "markdown",
   "id": "de0b4a25",
   "metadata": {},
   "source": [
    "# Regex"
   ]
  },
  {
   "cell_type": "code",
   "execution_count": 63,
   "id": "4e586bd7",
   "metadata": {},
   "outputs": [],
   "source": [
    "import re\n",
    "\n",
    "text_to_search = '''\n",
    "abcdefghijklmnopqrstuvwxyz\n",
    "ABCDEFGHIJKLMNOPQRSTUVWXYZ\n",
    "12345678\n",
    "\n",
    "Ha HaHa\n",
    "\n",
    "MetaCharacters (Need to be escaped):\n",
    ". ^ $ * + ? { } [ ] \\ | ( ) \n",
    "\n",
    "coreyms.com\n",
    "\n",
    "321-555-4321\n",
    "123.555.1234\n",
    "123*555*1234\n",
    "800-555-1234\n",
    "900.555-1234\n",
    "\n",
    "\n",
    "Mr. Schafer\n",
    "Mr. Taylor\n",
    "Ms Davis\n",
    "Mrs. Robinson\n",
    "Mr. T\n",
    "\n",
    "cat\n",
    "mat\n",
    "pat\n",
    "pat\n",
    "\n",
    "'''\n",
    "\n",
    "sentence = 'Start a sentence and then bring it to the end'\n",
    "\n",
    "\n",
    "# Raw string in python is a string prefixed with a r. That tells Python not to to handle back slashes in any special \n",
    "# way. Usually backslashes are used to specify tabs, new lines etc. \n",
    "\n",
    "# print(r'\\tTab')\n",
    "# print('\\tTab')\n"
   ]
  },
  {
   "cell_type": "markdown",
   "id": "4880ffee",
   "metadata": {},
   "source": [
    "# .     - Any character except a new line\n",
    "# \\d    - Digit (0-9)\n",
    "# \\D    - Not a digit (0-9)\n",
    "# \\w    - Word character (a-z, A-Z, 0-9, -)\n",
    "# \\W    - Not a word character \n",
    "# \\s    - Whitespace (space, tab, newline)\n",
    "# \\S    - Not Whitespace (space, tab, newline)\n",
    "\n",
    "# \\b    - Word boundary \n",
    "# \\B    - Not a word boundary \n",
    "# ^     - Beginning of a string\n",
    "# $      End of a string\n",
    "\n",
    "# []    - Matches characters in brackets\n",
    "# [^ ]  - Matches characters NOT in \n"
   ]
  },
  {
   "cell_type": "code",
   "execution_count": 29,
   "id": "fed42422",
   "metadata": {},
   "outputs": [
    {
     "name": "stdout",
     "output_type": "stream",
     "text": [
      "<re.Match object; span=(1, 4), match='abc'>\n",
      "abc\n"
     ]
    }
   ],
   "source": [
    "pattern = re.compile(r'abc')   #this method will not match on capital ABCs. \n",
    "\n",
    "matches = pattern.finditer(text_to_search)\n",
    "\n",
    "for match in matches:\n",
    "    print(match)\n",
    "    \n",
    "print(text_to_search[1:4])\n",
    "    \n",
    "# The span is the beginnig and end index of the match. "
   ]
  },
  {
   "cell_type": "code",
   "execution_count": 30,
   "id": "ad85e435",
   "metadata": {},
   "outputs": [
    {
     "name": "stdout",
     "output_type": "stream",
     "text": [
      "<re.Match object; span=(141, 152), match='coreyms.com'>\n"
     ]
    }
   ],
   "source": [
    "# pattern = re.compile(r'\\.')             # A . with no backslash will match all characters except new lines\n",
    "pattern = re.compile(r'coreyms\\.com')     #For meta characters they must be escaped before attemting to compile.\n",
    "\n",
    "matches = pattern.finditer(text_to_search)\n",
    "\n",
    "for match in matches:\n",
    "    print(match)\n",
    "    "
   ]
  },
  {
   "cell_type": "code",
   "execution_count": 31,
   "id": "8b023a76",
   "metadata": {},
   "outputs": [
    {
     "name": "stdout",
     "output_type": "stream",
     "text": [
      "<re.Match object; span=(65, 67), match='Ha'>\n",
      "<re.Match object; span=(68, 70), match='Ha'>\n"
     ]
    }
   ],
   "source": [
    "pattern = re.compile(r'\\bHa')     #Use a word boundary to match on Ha. The first and second Ha's are matched\n",
    "                                   # When we use an uppercase B we match on the last ha because it does not have a word\n",
    "                                    # boundary before it.\n",
    "\n",
    "matches = pattern.finditer(text_to_search)\n",
    "\n",
    "for match in matches:\n",
    "    print(match)\n"
   ]
  },
  {
   "cell_type": "code",
   "execution_count": 36,
   "id": "2870e2eb",
   "metadata": {},
   "outputs": [],
   "source": [
    "pattern = re.compile(r'a$')     \n",
    "\n",
    "matches = pattern.finditer(text_to_search)\n",
    "\n",
    "for match in matches:\n",
    "    print(match)"
   ]
  },
  {
   "cell_type": "markdown",
   "id": "f86cf9aa",
   "metadata": {},
   "source": [
    "# Matching Phone Number with Wildcard Seperators in Txt File"
   ]
  },
  {
   "cell_type": "code",
   "execution_count": 50,
   "id": "3bc094fc",
   "metadata": {
    "scrolled": true
   },
   "outputs": [
    {
     "name": "stdout",
     "output_type": "stream",
     "text": [
      "<re.Match object; span=(154, 166), match='321-555-4321'>\n",
      "<re.Match object; span=(167, 179), match='123.555.1234'>\n"
     ]
    }
   ],
   "source": [
    "pattern = re.compile(r'\\d\\d\\d.\\d\\d\\d.\\d\\d\\d\\d')        # A . with no backslash will match all characters except new lines \n",
    "\n",
    "matches = pattern.finditer(text_to_search)\n",
    "\n",
    "for match in matches:\n",
    "    print(match)\n",
    "\n",
    "# with open('/Users/sammarcustaylor/Desktop/data.txt', 'r') as f:\n",
    "#     contents = f.read()\n",
    "    \n",
    "#     matches = pattern.finditer(contents)\n",
    "\n",
    "# for match in matches:\n",
    "#     print(match)"
   ]
  },
  {
   "cell_type": "code",
   "execution_count": 52,
   "id": "1450ea8c",
   "metadata": {},
   "outputs": [
    {
     "name": "stdout",
     "output_type": "stream",
     "text": [
      "<re.Match object; span=(154, 166), match='321-555-4321'>\n",
      "<re.Match object; span=(167, 179), match='123.555.1234'>\n"
     ]
    }
   ],
   "source": [
    "# If there was an instance where we wanted to match a phone number with a specific seperator we would use\n",
    "# a character set\n",
    "\n",
    "# the character set [-.] says that we only want to match phone numbers with a dash or a dot. This would exclude the \n",
    "# third number.\n",
    "\n",
    "pattern = re.compile(r'\\d\\d\\d[-.]\\d\\d\\d[-.]\\d\\d\\d\\d')        \n",
    "\n",
    "matches = pattern.finditer(text_to_search)\n",
    "\n",
    "for match in matches:\n",
    "    print(match)\n",
    "\n"
   ]
  },
  {
   "cell_type": "code",
   "execution_count": 59,
   "id": "77ea3514",
   "metadata": {},
   "outputs": [
    {
     "name": "stdout",
     "output_type": "stream",
     "text": [
      "<re.Match object; span=(193, 205), match='800-555-1234'>\n",
      "<re.Match object; span=(206, 218), match='900.555-1234'>\n"
     ]
    }
   ],
   "source": [
    "pattern = re.compile(r'[89]00[-.]\\d\\d\\d[-.]\\d\\d\\d\\d')        \n",
    "\n",
    "matches = pattern.finditer(text_to_search)\n",
    "\n",
    "for match in matches:\n",
    "    print(match)"
   ]
  },
  {
   "cell_type": "markdown",
   "id": "a342eace",
   "metadata": {},
   "source": [
    "# Using Dashes -"
   ]
  },
  {
   "cell_type": "code",
   "execution_count": 62,
   "id": "bbe70744",
   "metadata": {},
   "outputs": [
    {
     "name": "stdout",
     "output_type": "stream",
     "text": [
      "<re.Match object; span=(0, 1), match='\\n'>\n",
      "<re.Match object; span=(27, 28), match='\\n'>\n",
      "<re.Match object; span=(54, 55), match='\\n'>\n",
      "<re.Match object; span=(55, 56), match='1'>\n",
      "<re.Match object; span=(56, 57), match='2'>\n",
      "<re.Match object; span=(57, 58), match='3'>\n",
      "<re.Match object; span=(58, 59), match='4'>\n",
      "<re.Match object; span=(59, 60), match='5'>\n",
      "<re.Match object; span=(60, 61), match='6'>\n",
      "<re.Match object; span=(61, 62), match='7'>\n",
      "<re.Match object; span=(62, 63), match='8'>\n",
      "<re.Match object; span=(63, 64), match='\\n'>\n",
      "<re.Match object; span=(64, 65), match='\\n'>\n",
      "<re.Match object; span=(67, 68), match=' '>\n",
      "<re.Match object; span=(72, 73), match='\\n'>\n",
      "<re.Match object; span=(73, 74), match='\\n'>\n",
      "<re.Match object; span=(88, 89), match=' '>\n",
      "<re.Match object; span=(89, 90), match='('>\n",
      "<re.Match object; span=(94, 95), match=' '>\n",
      "<re.Match object; span=(97, 98), match=' '>\n",
      "<re.Match object; span=(100, 101), match=' '>\n",
      "<re.Match object; span=(108, 109), match=')'>\n",
      "<re.Match object; span=(109, 110), match=':'>\n",
      "<re.Match object; span=(110, 111), match='\\n'>\n",
      "<re.Match object; span=(111, 112), match='.'>\n",
      "<re.Match object; span=(112, 113), match=' '>\n",
      "<re.Match object; span=(113, 114), match='^'>\n",
      "<re.Match object; span=(114, 115), match=' '>\n",
      "<re.Match object; span=(115, 116), match='$'>\n",
      "<re.Match object; span=(116, 117), match=' '>\n",
      "<re.Match object; span=(117, 118), match='*'>\n",
      "<re.Match object; span=(118, 119), match=' '>\n",
      "<re.Match object; span=(119, 120), match='+'>\n",
      "<re.Match object; span=(120, 121), match=' '>\n",
      "<re.Match object; span=(121, 122), match='?'>\n",
      "<re.Match object; span=(122, 123), match=' '>\n",
      "<re.Match object; span=(123, 124), match='{'>\n",
      "<re.Match object; span=(124, 125), match=' '>\n",
      "<re.Match object; span=(125, 126), match='}'>\n",
      "<re.Match object; span=(126, 127), match=' '>\n",
      "<re.Match object; span=(127, 128), match='['>\n",
      "<re.Match object; span=(128, 129), match=' '>\n",
      "<re.Match object; span=(129, 130), match=']'>\n",
      "<re.Match object; span=(130, 131), match=' '>\n",
      "<re.Match object; span=(131, 132), match='\\\\'>\n",
      "<re.Match object; span=(132, 133), match=' '>\n",
      "<re.Match object; span=(133, 134), match='|'>\n",
      "<re.Match object; span=(134, 135), match=' '>\n",
      "<re.Match object; span=(135, 136), match='('>\n",
      "<re.Match object; span=(136, 137), match=' '>\n",
      "<re.Match object; span=(137, 138), match=')'>\n",
      "<re.Match object; span=(138, 139), match=' '>\n",
      "<re.Match object; span=(139, 140), match='\\n'>\n",
      "<re.Match object; span=(140, 141), match='\\n'>\n",
      "<re.Match object; span=(148, 149), match='.'>\n",
      "<re.Match object; span=(152, 153), match='\\n'>\n",
      "<re.Match object; span=(153, 154), match='\\n'>\n",
      "<re.Match object; span=(154, 155), match='3'>\n",
      "<re.Match object; span=(155, 156), match='2'>\n",
      "<re.Match object; span=(156, 157), match='1'>\n",
      "<re.Match object; span=(157, 158), match='-'>\n",
      "<re.Match object; span=(158, 159), match='5'>\n",
      "<re.Match object; span=(159, 160), match='5'>\n",
      "<re.Match object; span=(160, 161), match='5'>\n",
      "<re.Match object; span=(161, 162), match='-'>\n",
      "<re.Match object; span=(162, 163), match='4'>\n",
      "<re.Match object; span=(163, 164), match='3'>\n",
      "<re.Match object; span=(164, 165), match='2'>\n",
      "<re.Match object; span=(165, 166), match='1'>\n",
      "<re.Match object; span=(166, 167), match='\\n'>\n",
      "<re.Match object; span=(167, 168), match='1'>\n",
      "<re.Match object; span=(168, 169), match='2'>\n",
      "<re.Match object; span=(169, 170), match='3'>\n",
      "<re.Match object; span=(170, 171), match='.'>\n",
      "<re.Match object; span=(171, 172), match='5'>\n",
      "<re.Match object; span=(172, 173), match='5'>\n",
      "<re.Match object; span=(173, 174), match='5'>\n",
      "<re.Match object; span=(174, 175), match='.'>\n",
      "<re.Match object; span=(175, 176), match='1'>\n",
      "<re.Match object; span=(176, 177), match='2'>\n",
      "<re.Match object; span=(177, 178), match='3'>\n",
      "<re.Match object; span=(178, 179), match='4'>\n",
      "<re.Match object; span=(179, 180), match='\\n'>\n",
      "<re.Match object; span=(180, 181), match='1'>\n",
      "<re.Match object; span=(181, 182), match='2'>\n",
      "<re.Match object; span=(182, 183), match='3'>\n",
      "<re.Match object; span=(183, 184), match='*'>\n",
      "<re.Match object; span=(184, 185), match='5'>\n",
      "<re.Match object; span=(185, 186), match='5'>\n",
      "<re.Match object; span=(186, 187), match='5'>\n",
      "<re.Match object; span=(187, 188), match='*'>\n",
      "<re.Match object; span=(188, 189), match='1'>\n",
      "<re.Match object; span=(189, 190), match='2'>\n",
      "<re.Match object; span=(190, 191), match='3'>\n",
      "<re.Match object; span=(191, 192), match='4'>\n",
      "<re.Match object; span=(192, 193), match='\\n'>\n",
      "<re.Match object; span=(193, 194), match='8'>\n",
      "<re.Match object; span=(194, 195), match='0'>\n",
      "<re.Match object; span=(195, 196), match='0'>\n",
      "<re.Match object; span=(196, 197), match='-'>\n",
      "<re.Match object; span=(197, 198), match='5'>\n",
      "<re.Match object; span=(198, 199), match='5'>\n",
      "<re.Match object; span=(199, 200), match='5'>\n",
      "<re.Match object; span=(200, 201), match='-'>\n",
      "<re.Match object; span=(201, 202), match='1'>\n",
      "<re.Match object; span=(202, 203), match='2'>\n",
      "<re.Match object; span=(203, 204), match='3'>\n",
      "<re.Match object; span=(204, 205), match='4'>\n",
      "<re.Match object; span=(205, 206), match='\\n'>\n",
      "<re.Match object; span=(206, 207), match='9'>\n",
      "<re.Match object; span=(207, 208), match='0'>\n",
      "<re.Match object; span=(208, 209), match='0'>\n",
      "<re.Match object; span=(209, 210), match='.'>\n",
      "<re.Match object; span=(210, 211), match='5'>\n",
      "<re.Match object; span=(211, 212), match='5'>\n",
      "<re.Match object; span=(212, 213), match='5'>\n",
      "<re.Match object; span=(213, 214), match='-'>\n",
      "<re.Match object; span=(214, 215), match='1'>\n",
      "<re.Match object; span=(215, 216), match='2'>\n",
      "<re.Match object; span=(216, 217), match='3'>\n",
      "<re.Match object; span=(217, 218), match='4'>\n",
      "<re.Match object; span=(218, 219), match='\\n'>\n",
      "<re.Match object; span=(219, 220), match='\\n'>\n",
      "<re.Match object; span=(220, 221), match='\\n'>\n",
      "<re.Match object; span=(223, 224), match='.'>\n",
      "<re.Match object; span=(224, 225), match=' '>\n",
      "<re.Match object; span=(232, 233), match='\\n'>\n",
      "<re.Match object; span=(235, 236), match='.'>\n",
      "<re.Match object; span=(236, 237), match=' '>\n",
      "<re.Match object; span=(243, 244), match='\\n'>\n",
      "<re.Match object; span=(246, 247), match=' '>\n",
      "<re.Match object; span=(252, 253), match='\\n'>\n",
      "<re.Match object; span=(256, 257), match='.'>\n",
      "<re.Match object; span=(257, 258), match=' '>\n",
      "<re.Match object; span=(266, 267), match='\\n'>\n",
      "<re.Match object; span=(269, 270), match='.'>\n",
      "<re.Match object; span=(270, 271), match=' '>\n",
      "<re.Match object; span=(272, 273), match='\\n'>\n"
     ]
    }
   ],
   "source": [
    "pattern = re.compile(r'[^a-zA-Z]')        #carrot within the set negates the set and does the opposite.\n",
    "                                          # for example this query would return everything that is not a letter.   \n",
    "\n",
    "matches = pattern.finditer(text_to_search)\n",
    "\n",
    "for match in matches:\n",
    "    print(match)"
   ]
  },
  {
   "cell_type": "code",
   "execution_count": 67,
   "id": "6a2f402d",
   "metadata": {},
   "outputs": [
    {
     "name": "stdout",
     "output_type": "stream",
     "text": [
      "<re.Match object; span=(274, 277), match='cat'>\n",
      "<re.Match object; span=(278, 281), match='mat'>\n",
      "<re.Match object; span=(282, 285), match='pat'>\n",
      "<re.Match object; span=(286, 289), match='pat'>\n"
     ]
    }
   ],
   "source": [
    "pattern = re.compile(r'[^b]at')        #carrot within the set negates the set and does the opposite.\n",
    "                                          # for example this query would return everything that is not a letter b.   \n",
    "\n",
    "matches = pattern.finditer(text_to_search)\n",
    "\n",
    "for match in matches:\n",
    "    print(match)"
   ]
  },
  {
   "cell_type": "markdown",
   "id": "e255f164",
   "metadata": {},
   "source": [
    "# Quantifiers\n",
    "\n",
    "# *         \n",
    "- 0 or more\n",
    "# +       \n",
    "- 1 or more\n",
    "# ?       \n",
    "- 0 or one\n",
    "# {3}     \n",
    "- Exact number\n",
    "# {3,4}  \n",
    "- Range of numbers (minimum, maximum)"
   ]
  },
  {
   "cell_type": "code",
   "execution_count": 69,
   "id": "b8d91576",
   "metadata": {},
   "outputs": [
    {
     "name": "stdout",
     "output_type": "stream",
     "text": [
      "<re.Match object; span=(154, 166), match='321-555-4321'>\n",
      "<re.Match object; span=(167, 179), match='123.555.1234'>\n",
      "<re.Match object; span=(180, 192), match='123*555*1234'>\n",
      "<re.Match object; span=(193, 205), match='800-555-1234'>\n",
      "<re.Match object; span=(206, 218), match='900.555-1234'>\n"
     ]
    }
   ],
   "source": [
    "pattern = re.compile(r'\\d{3}.\\d{3}.\\d{4}')        #we use a quantifier to match multiple characters  \n",
    "                                                #specify the amount of digits that we are looking for without having t\n",
    "                                                #to type them all out. \n",
    "                                                #equivalent to (r'\\d\\d\\d.\\d\\d\\d.\\d\\d\\d\\d)\n",
    "                                                        \n",
    "matches = pattern.finditer(text_to_search)\n",
    "\n",
    "for match in matches:\n",
    "    print(match)"
   ]
  },
  {
   "cell_type": "code",
   "execution_count": 80,
   "id": "eb2638f6",
   "metadata": {},
   "outputs": [
    {
     "name": "stdout",
     "output_type": "stream",
     "text": [
      "<re.Match object; span=(221, 232), match='Mr. Schafer'>\n",
      "<re.Match object; span=(233, 243), match='Mr. Taylor'>\n",
      "<re.Match object; span=(244, 252), match='Ms Davis'>\n",
      "<re.Match object; span=(253, 266), match='Mrs. Robinson'>\n",
      "<re.Match object; span=(267, 272), match='Mr. T'>\n"
     ]
    }
   ],
   "source": [
    "# Write a pattern that matches prefixes and entire names that come afterward. \n",
    "# Mr. Schafer\n",
    "# Mr. Taylor\n",
    "# Ms Davis\n",
    "# Mrs. Robinson\n",
    "# Mr. T\n",
    "\n",
    "# question mark quantifier says that we want to match zero or one of those characters. \n",
    "# Therefore Mr. or Mr\n",
    "\n",
    "# pattern = re.compile(r'Mr\\.?\\s[A-Z]\\w+')     # The problem with this one is it does not match on Mr. T\n",
    "# pattern = re.compile(r'Mr\\.?\\s[A-Z]\\w*')  # Pass in asterisk to get Mr. T - 0 or more.  \n",
    "\n",
    "pattern = re.compile(r'(Mr|Ms|Mrs)\\.?\\s[A-Z]\\w*') \n",
    "                                                        \n",
    "matches = pattern.finditer(text_to_search)\n",
    "\n",
    "for match in matches:\n",
    "    print(match)"
   ]
  },
  {
   "cell_type": "markdown",
   "id": "7fa70eb1",
   "metadata": {},
   "source": [
    "# Regex to Match Emails Phrases"
   ]
  },
  {
   "cell_type": "code",
   "execution_count": 102,
   "id": "d009a7d8",
   "metadata": {},
   "outputs": [
    {
     "name": "stdout",
     "output_type": "stream",
     "text": [
      "<re.Match object; span=(1, 24), match='CoreyMSchafer@gmail.com'>\n",
      "<re.Match object; span=(25, 52), match='corey.shafer@university.edu'>\n",
      "<re.Match object; span=(53, 82), match='corey-321-schafer@my-work.net'>\n"
     ]
    }
   ],
   "source": [
    "emails = '''\n",
    "CoreyMSchafer@gmail.com\n",
    "corey.shafer@university.edu\n",
    "corey-321-schafer@my-work.net\n",
    "'''\n",
    "\n",
    "# Using large characters sets\n",
    "# match all lower & upper case letters, all digits. Match _ . + - followed up by a plus sign that tells us we will \n",
    "# match for any one or more of those in the character sets. \n",
    "#Once the A sign is reached we have another character set that matches upper, lower, numbers, & hyphens.\n",
    "#After the second character set the following plus sign looks to match on one or more of those characters in the set.\n",
    "# This will match up to the last period that is escaped with a backslash. \n",
    "# After the dot the final character set matches on lower, upper, digits, hyphens, or another dot. Plus sign matches \n",
    "# one or more of any of those characters. \n",
    "\n",
    "pattern = re.compile(r'[a-zA-Z0-9-.+]+@[a-zA-z0-9-]+\\.[a-zA-z0-9-.]+')\n",
    "\n",
    "matches = pattern.finditer(emails)\n",
    "\n",
    "for match in matches:\n",
    "    print(match)\n"
   ]
  },
  {
   "cell_type": "markdown",
   "id": "3bff2cf5",
   "metadata": {},
   "source": [
    "# Capture info from Groups"
   ]
  },
  {
   "cell_type": "code",
   "execution_count": 130,
   "id": "1d95031f",
   "metadata": {},
   "outputs": [
    {
     "name": "stdout",
     "output_type": "stream",
     "text": [
      "\n",
      "google.com\n",
      "coreyms.com\n",
      "youtube.com\n",
      "nasa.gov\n",
      "\n"
     ]
    }
   ],
   "source": [
    "# grab only the domain name\n",
    "\n",
    "# https? we place a question mark because the s is optional 0 or 1.\n",
    "# (www\\.)? we place a group with a question mark because it is optional. \n",
    "# \\w+\\.  backslash w to match a word chracter, a plus to match one or more. All the way up to the dot. \n",
    "# We do the same with the last portion and break up the pieces into groups.\n",
    "\n",
    "# group method on the match object that allow you to select which group we want to select.\n",
    "\n",
    "# Regex has a sub method that allows us to perform a substitution. \n",
    "# subbed_urls uses the pattern above to sub out group 2, group 3 for all matches in urls. \n",
    "\n",
    "\n",
    "urls = '''\n",
    "https://www.google.com\n",
    "http://coreyms.com\n",
    "https://youtube.com\n",
    "https://nasa.gov\n",
    "'''\n",
    "\n",
    "pattern = re.compile(r'https?://(www\\.)?(\\w+)(\\.\\w+)')\n",
    "\n",
    "subbed_urls = pattern.sub(r'\\2\\3', urls)\n",
    "\n",
    "print(subbed_urls)\n",
    "\n",
    "# matches = pattern.finditer(urls)\n",
    "\n",
    "# for match in matches:\n",
    "#     print(match.group(2))"
   ]
  },
  {
   "cell_type": "markdown",
   "id": "0210aba8",
   "metadata": {},
   "source": [
    "# Other methods of regex"
   ]
  },
  {
   "cell_type": "code",
   "execution_count": 132,
   "id": "7b72f1fd",
   "metadata": {},
   "outputs": [
    {
     "name": "stdout",
     "output_type": "stream",
     "text": [
      "<re.Match object; span=(0, 5), match='Start'>\n"
     ]
    }
   ],
   "source": [
    "#matches = pattern.findall(urls)      This would work just as iter, but iter comes with added functionality, such\n",
    "# as selecting groups.\n",
    "\n",
    "#matches = pattern.match(urls)       Would only look at the beginning of lines\n",
    "\n",
    "#matches = pattern.search(urls)      Prints out first match it finds. \n",
    "\n",
    "sentence = 'Start a sentence and then bring it to an end'\n",
    "\n",
    "pattern = re.compile(r'start', re.IGNORECASE)  # Flags allow us to ignore case. \n",
    "\n",
    "matches = pattern.search(sentence)\n",
    "print(matches)"
   ]
  }
 ],
 "metadata": {
  "kernelspec": {
   "display_name": "Python 3",
   "language": "python",
   "name": "python3"
  },
  "language_info": {
   "codemirror_mode": {
    "name": "ipython",
    "version": 3
   },
   "file_extension": ".py",
   "mimetype": "text/x-python",
   "name": "python",
   "nbconvert_exporter": "python",
   "pygments_lexer": "ipython3",
   "version": "3.8.3"
  }
 },
 "nbformat": 4,
 "nbformat_minor": 5
}
