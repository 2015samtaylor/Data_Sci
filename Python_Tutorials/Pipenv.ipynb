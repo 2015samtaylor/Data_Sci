{
 "cells": [
  {
   "cell_type": "markdown",
   "id": "2fd5ab20",
   "metadata": {},
   "source": [
    "# Pipenv Tutorial\n",
    "\n",
    "When switching between versions of python, or extensions like django; each packages will have their own versions.\n",
    "Some people put off learning virtual environments and use their global installation of python with all their packages \n",
    "installed in one place. \n",
    "\n",
    "If you do it that way, as soon as you update to the next version of a package, then it could break some older applications\n",
    "that were running just fine. Therefore it is best to break them up into virtual environments. \n",
    "\n",
    "With pipenv, we can install packages within our environment & run code\n",
    " \n"
   ]
  },
  {
   "cell_type": "code",
   "execution_count": null,
   "id": "8c6601c1",
   "metadata": {},
   "outputs": [],
   "source": [
    "#the line will insert requests into our pipfile\n",
    "\n",
    "!pipenv install requests"
   ]
  },
  {
   "cell_type": "markdown",
   "id": "3b825346",
   "metadata": {},
   "source": [
    "# Pipfile example\n",
    "\n",
    "The format is toml, which is designed to be a minimal format, which contains keys and values within the file. \n",
    "\n",
    "The source section shows we are we are downloading packages from\n",
    "\n",
    "The packages section, which only contains the requests package right now has a *. The * means that we did not specify a version\n",
    "so the most recent one will be installed in the virtual env. We can specify the exact version in there as well\n",
    "\n",
    "At the bottom we also specify what version of python we are using. "
   ]
  },
  {
   "cell_type": "code",
   "execution_count": null,
   "id": "d27e9053",
   "metadata": {},
   "outputs": [],
   "source": [
    "[[source]]\n",
    "url = \"https://pypi.org/simple\"\n",
    "verify_ssl = true\n",
    "name = \"pypi\"\n",
    "\n",
    "[packages]\n",
    "requests = \"*\"\n",
    "\n",
    "[dev-packages]\n",
    "\n",
    "[requires]\n",
    "python_version = \"3.9\""
   ]
  },
  {
   "cell_type": "markdown",
   "id": "0d336a06",
   "metadata": {},
   "source": [
    "# Pipefile.lock\n",
    "\n",
    "Contains the dependencies to all of our packcages. It contains the exact version of the installed packages. \n",
    "\n",
    "Gives you a deterministic build, meaning that this lock file will give the exact same environment every single time.\n",
    "\n",
    "Once you are sure that all code is working in development than you can update the lock file to use those exact packages"
   ]
  },
  {
   "cell_type": "code",
   "execution_count": null,
   "id": "a90ffa12",
   "metadata": {},
   "outputs": [],
   "source": [
    "pipenv shell   #launches a subshell in the virtual environment. The python executable now comes from the virtual env\n",
    "exit           # leaves the environment\n",
    "\n",
    "#uses the virtual env executable to run a python script. DIfferent interpreter, and different location for all packages.\n",
    "!pipenv run python employee.py "
   ]
  },
  {
   "cell_type": "markdown",
   "id": "93ea143f",
   "metadata": {},
   "source": [
    "# Pipenv in combination w/ Requirements.txt"
   ]
  },
  {
   "cell_type": "code",
   "execution_count": null,
   "id": "e8537a84",
   "metadata": {},
   "outputs": [],
   "source": [
    "# will produce a requirements.txt with versions of packages within code. \n",
    "#pip freeze > requirements.txt  \n",
    "\n",
    "\n",
    "pipenv install -r requirements.txt     #This will update the pipfile.lock, and install dependencies with exact package specification\n",
    "\n",
    "pipenv lock -r  #displays our dependencies in our lock file. If some people on the team are using pipenv, and others are using pip this can generate that file"
   ]
  },
  {
   "cell_type": "markdown",
   "id": "3db19e05",
   "metadata": {},
   "source": [
    "# Install a Package in a Development Environment"
   ]
  },
  {
   "cell_type": "code",
   "execution_count": null,
   "id": "6d5644a6",
   "metadata": {},
   "outputs": [],
   "source": [
    "# if you only want to have your package in the dev environment\n",
    "# this installed only in dev-packages for our pip file\n",
    "# in this way pipenv knows how to keep dev from production seperate\n",
    "\n",
    "!pipenv install pytest --dev\n"
   ]
  },
  {
   "cell_type": "code",
   "execution_count": null,
   "id": "9df7fdf5",
   "metadata": {},
   "outputs": [],
   "source": [
    "# To uninstall a package\n",
    "\n",
    "!pipenv uninstall requests\n",
    "\n",
    "# To remove a virtual environment completely\n",
    "!pipenv --rm"
   ]
  },
  {
   "cell_type": "code",
   "execution_count": 3,
   "id": "239b41f5",
   "metadata": {},
   "outputs": [
    {
     "name": "stdout",
     "output_type": "stream",
     "text": [
      "Installing dependencies from Pipfile.lock (f65fb2)...\n"
     ]
    },
    {
     "name": "stderr",
     "output_type": "stream",
     "text": [
      "Creating a virtualenv for this project...\n",
      "Pipfile: C:\\Users\\samuel.taylor\\OneDrive - Green Dot Public Schools\\Desktop\\Git_Directory\\CP\\Tutorials\\Pipfile\n",
      "Using C:/Users/samuel.taylor/Anaconda3/python.exe (3.9.7) to create virtualenv...\n",
      "created virtual environment CPython3.9.7.final.0-64 in 2241ms\n",
      "  creator CPython3Windows(dest=C:\\Users\\samuel.taylor\\.virtualenvs\\Tutorials-m6fX48-N, clear=False, no_vcs_ignore=False, global=False)\n",
      "  seeder FromAppData(download=False, pip=bundle, setuptools=bundle, wheel=bundle, via=copy, app_data_dir=C:\\Users\\samuel.taylor\\AppData\\Local\\pypa\\virtualenv)\n",
      "    added seed packages: pip==23.2.1, setuptools==68.0.0, wheel==0.41.0\n",
      "  activators BashActivator,BatchActivator,FishActivator,NushellActivator,PowerShellActivator,PythonActivator\n",
      "\n",
      "Successfully created virtual environment!\n",
      "Virtualenv location: C:\\Users\\samuel.taylor\\.virtualenvs\\Tutorials-m6fX48-N\n"
     ]
    },
    {
     "name": "stdout",
     "output_type": "stream",
     "text": [
      "To activate this project's virtualenv, run pipenv shell.\n",
      "Alternatively, run a command inside the virtualenv with pipenv run.\n"
     ]
    }
   ],
   "source": [
    "#To create an environment that matches the one in our pip file, we can \n",
    "#simply say the following:\n",
    "!pipenv install"
   ]
  },
  {
   "cell_type": "code",
   "execution_count": 5,
   "id": "c6a929b1",
   "metadata": {},
   "outputs": [
    {
     "name": "stdout",
     "output_type": "stream",
     "text": [
      "C:\\Users\\samuel.taylor\\.virtualenvs\\Tutorials-m6fX48-N\n"
     ]
    }
   ],
   "source": [
    "# To get path to your virtual environment\n",
    "!pipenv --venv"
   ]
  },
  {
   "cell_type": "markdown",
   "id": "fa3799ae",
   "metadata": {},
   "source": [
    "# Check for Security Vulnerabilities"
   ]
  },
  {
   "cell_type": "code",
   "execution_count": 6,
   "id": "8c7180dd",
   "metadata": {},
   "outputs": [
    {
     "name": "stdout",
     "output_type": "stream",
     "text": [
      "Checking PEP 508 requirements...\n",
      "Passed!\n",
      "Checking Pipfile.lock packages for vulnerabilities...\n",
      "+==============================================================================+\n",
      "\n",
      "                               /$$$$$$            /$$\n",
      "                              /$$__  $$          | $$\n",
      "           /$$$$$$$  /$$$$$$ | $$  \\__//$$$$$$  /$$$$$$   /$$   /$$\n",
      "          /$$_____/ |____  $$| $$$$   /$$__  $$|_  $$_/  | $$  | $$\n",
      "         |  $$$$$$   /$$$$$$$| $$_/  | $$$$$$$$  | $$    | $$  | $$\n",
      "          \\____  $$ /$$__  $$| $$    | $$_____/  | $$ /$$| $$  | $$\n",
      "          /$$$$$$$/|  $$$$$$$| $$    |  $$$$$$$  |  $$$$/|  $$$$$$$\n",
      "         |_______/  \\_______/|__/     \\_______/   \\___/   \\____  $$\n",
      "                                                          /$$  | $$\n",
      "                                                         |  $$$$$$/\n",
      "  by pyup.io                                              \\______/\n",
      "\n",
      "+==============================================================================+\n",
      "\n",
      " REPORT \n",
      "\n",
      "  Safety v2.3.2 is scanning for Vulnerabilities...\n",
      "  Scanning dependencies in your files:\n",
      "\n",
      "  -> C:\\Users\\SAMUEL~1.TAY\\AppData\\Local\\Temp\\Tutorials-m6fX48-Nj5s_r9k0_requireme\n",
      "    nts.txt\n",
      "\n",
      "  Found and scanned 5 packages\n",
      "  Timestamp 2023-08-09 23:26:03\n",
      "  0 vulnerabilities found\n",
      "  0 vulnerabilities ignored\n",
      "+==============================================================================+\n",
      "\n",
      " No known security vulnerabilities found. \n",
      "\n",
      "+==============================================================================+\n"
     ]
    }
   ],
   "source": [
    "# Essentially testing the validity of your package versions\n",
    "# Then you can alter the versions of your packcages in the pipenv\n",
    "# Once updated in the pipfile, simply run pipenv install to update. \n",
    "\n",
    "!pipenv check"
   ]
  },
  {
   "cell_type": "markdown",
   "id": "12ab61d2",
   "metadata": {},
   "source": [
    "# Pushing to Production"
   ]
  },
  {
   "cell_type": "code",
   "execution_count": 9,
   "id": "15308913",
   "metadata": {},
   "outputs": [
    {
     "name": "stdout",
     "output_type": "stream",
     "text": [
      "Building requirements...\n",
      "Resolving dependencies...\n",
      "Resolving dependencies...\n",
      "Success!\n",
      "Building requirements...\n",
      "Resolving dependencies...\n",
      "Resolving dependencies...\n",
      "Success!\n"
     ]
    },
    {
     "name": "stderr",
     "output_type": "stream",
     "text": [
      "Locking [packages] dependencies...\n",
      "Locking [dev-packages] dependencies...\n",
      "Updated Pipfile.lock (5c94394d00d5c4a77b76f31dbff3aea8c69fa07469d14ef2e74254bdf5f65fb2)!\n"
     ]
    },
    {
     "name": "stdout",
     "output_type": "stream",
     "text": [
      "Installing dependencies from Pipfile.lock (f65fb2)...\n",
      "To activate this project's virtualenv, run pipenv shell.\n",
      "Alternatively, run a command inside the virtualenv with pipenv run.\n"
     ]
    }
   ],
   "source": [
    "# The pipfile.lock has the exact files and versions, but the pip file might \n",
    "# just have the most recent. When we push to development we want to make sure\n",
    "# that we have intentional versions of packages. \n",
    "\n",
    "#So update the file with the current dependencies\n",
    "\n",
    "!pipenv lock\n",
    "\n",
    "# That will create an environment using what is in the pipfile.lock \n",
    "# and ignore the pipfile that is usually used by default. \n",
    "!pipenv install --ignore-pipfile"
   ]
  },
  {
   "cell_type": "code",
   "execution_count": 32,
   "id": "733ecc20",
   "metadata": {},
   "outputs": [],
   "source": [
    "# If you are working on multiple flask or django projects and want to have\n",
    "# environment variables for each project that contain secret keys, db conns\n",
    "# then it would be nice to have the virtual environment handle this without \n",
    "# having to do it manually.\n",
    "\n",
    "# The way we can do this using pipenv is to create a .env file within \n",
    "# the project directory. You can set the environment variables within that file\n",
    "# We create the .env file within our directory\n",
    "\n",
    "!pipenv run python\n",
    "import os\n",
    "os.environ['secret_key']\n",
    "\n",
    "#Another thing is you do not want to commit the environment variables to git"
   ]
  },
  {
   "cell_type": "code",
   "execution_count": 33,
   "id": "c962c5c5",
   "metadata": {},
   "outputs": [],
   "source": [
    "from dotenv import load_dotenv\n",
    "import os\n",
    "\n",
    "!pipenv run python #hypothetical name of script\n",
    "\n",
    "if result:\n",
    "    print(\"Environment variables loaded successfully.\")\n",
    "else:\n",
    "    print(\"Failed to load environment variables.\")\n",
    "\n",
    "\n",
    "\n",
    "\n"
   ]
  }
 ],
 "metadata": {
  "hide_input": false,
  "kernelspec": {
   "display_name": "Python 3 (ipykernel)",
   "language": "python",
   "name": "python3"
  },
  "language_info": {
   "codemirror_mode": {
    "name": "ipython",
    "version": 3
   },
   "file_extension": ".py",
   "mimetype": "text/x-python",
   "name": "python",
   "nbconvert_exporter": "python",
   "pygments_lexer": "ipython3",
   "version": "3.9.7"
  }
 },
 "nbformat": 4,
 "nbformat_minor": 5
}
