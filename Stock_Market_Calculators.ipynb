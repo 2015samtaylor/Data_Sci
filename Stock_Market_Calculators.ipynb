{
 "cells": [
  {
   "cell_type": "markdown",
   "metadata": {},
   "source": [
    "### BORROWING ON MARGIN CALCULATOR"
   ]
  },
  {
   "cell_type": "code",
   "execution_count": null,
   "metadata": {},
   "outputs": [],
   "source": [
    "l = input(\"How much money is your loan? \\n\")\n",
    "m = input(\"At what margin rate will you be charged? Enter this number as a decimal point: \\n\")\n",
    "dh = input(\"How long are you planning on holding this security? \\n\")\n",
    "\n",
    "l = int(l)\n",
    "m = float(m)\n",
    "dh = int(dh)\n",
    "\n",
    "def loan_calculator(loan, margin, days_held):\n",
    "    x = (((loan * margin) / 360) * days_held)\n",
    "    print(\"Your accumulated interest over\",dh,\"days including weekends will be: \",round(x,2))\n",
    "\n",
    "\n",
    "print(\"\\nYour loan amount was\",l, \"dollars at a margin rate of\", m, \"accumulating over\",dh, \"days\\n\")\n",
    "loan_calculator(l, m, dh)"
   ]
  },
  {
   "cell_type": "code",
   "execution_count": null,
   "metadata": {},
   "outputs": [],
   "source": []
  },
  {
   "cell_type": "markdown",
   "metadata": {},
   "source": [
    "### BEP"
   ]
  },
  {
   "cell_type": "code",
   "execution_count": 11,
   "metadata": {},
   "outputs": [
    {
     "name": "stdout",
     "output_type": "stream",
     "text": [
      "What is the strike price? 3400\n",
      "\n",
      "What is the ask price? 144.50\n",
      "\n",
      "The breakeven price for the CALL at expiration date is 3544.5 and the initial cost of purchase is 14450\n",
      "\n",
      "The breakeven price for the PUT at expiration date is 3255.5  and the initial cost of purchase is 14450\n"
     ]
    }
   ],
   "source": [
    "#  Long call UPS Aug 210 Strike Price, Call @ $9.95\n",
    "# Maximum gain = unlimited\n",
    "# Maximum loss = $995 (9.95 option premium paid x 100 shares per contract)\n",
    "# Breakeven point = 219.95 (210 strike price + 9.95 option premium)\n",
    "# Therefore at the time of expiration, if the stock price is right at the breakeven price of 219.95, then the call purchae will not make or lose any money because the call will be worth exactly 9.95. \n",
    "\n",
    "\n",
    "strike_price = int(input(\"What is the strike price? \"))\n",
    "purchase_price = float(input(\"\\nWhat is the ask price? \"))\n",
    "\n",
    "\n",
    "def Call_BE(strike_price, purchase_price):\n",
    "    BEP = strike_price + purchase_price\n",
    "    y =(round(purchase_price*100))\n",
    "    print(\"\\nThe breakeven price for the CALL at expiration date is\", BEP, \"and the initial cost of purchase is\",y)\n",
    "\n",
    "\n",
    "Call_BE(strike_price, purchase_price)\n",
    "\n",
    "\n",
    "def Put_BE(strike_price, purchase_price):\n",
    "    BEP = strike_price - purchase_price\n",
    "    z = (round(purchase_price*100))\n",
    "    print(\"\\nThe breakeven price for the PUT at expiration date is\", BEP, \" and the initial cost of purchase is\", z)\n",
    "\n",
    "Put_BE(strike_price, purchase_price)\n"
   ]
  },
  {
   "cell_type": "markdown",
   "metadata": {},
   "source": [
    "### CALL Limit sell at X% ROI"
   ]
  },
  {
   "cell_type": "code",
   "execution_count": 2,
   "metadata": {},
   "outputs": [
    {
     "name": "stdout",
     "output_type": "stream",
     "text": [
      "What is the delta? \n",
      ".42\n",
      "How many contracts are you looking to purchase? \n",
      "3\n",
      "What is the initial ask price? \n",
      "5.11\n",
      "What is the price of the stock? \n",
      "176\n",
      "\n",
      "\n",
      "The amount of profit in this trade is 306.6000000000001  \n",
      "Your percent of gain is 20.0 % relative to the initial investment of 1533.0000000000002\n",
      "\n",
      "You make 126 dollars per dollar movement. \n",
      "Therefore you need to see a 2.43 dollar movement to a stock price of 178.43 or a bid price of 6.11\n"
     ]
    }
   ],
   "source": [
    "# * To alter the profit margin, just change what the profit variable x is equal to. \n",
    "\n",
    "x = .20\n",
    "\n",
    "delta = float(input(\"What is the delta? \\n\"))\n",
    "num = int(input(\"How many contracts are you looking to purchase? \\n\"))\n",
    "initial_ask_price = float(input(\"What is the initial ask price? \\n\"))\n",
    "strike_price = int(input('What is the price of the stock? \\n'))\n",
    "num_of_shares = num * 100\n",
    "money_per_dollar = round(delta * num_of_shares)\n",
    "initial_investement = ((initial_ask_price * 100)*num)\n",
    "profit = (initial_investement * x)\n",
    "move_needed = float(round(profit/money_per_dollar,2))\n",
    "sell_price = (strike_price + move_needed)\n",
    "percent_of_gain = (profit/initial_investement)*100\n",
    "bid_sell = (round(initial_ask_price * x) + initial_ask_price)\n",
    "\n",
    "\n",
    "print(\"\\n\\nThe amount of profit in this trade is\" ,profit, \" \\nYour percent of gain is\", percent_of_gain, \"%\", \"relative to the initial investment of\" ,initial_investement)\n",
    "print(\"\\nYou make\", money_per_dollar, \"dollars per dollar movement. \\nTherefore you need to see a\", move_needed, \"dollar movement to a stock price of\",sell_price, \"or a bid price of\", bid_sell)\n",
    "\n",
    "\n",
    "\n",
    "\n",
    "# The point of where the stock price needs to go is incorrect. "
   ]
  },
  {
   "cell_type": "markdown",
   "metadata": {},
   "source": [
    "### PUT Limit Sell at X% ROI"
   ]
  },
  {
   "cell_type": "code",
   "execution_count": null,
   "metadata": {},
   "outputs": [],
   "source": [
    "# * To alter the profit margin, just change what the profit variable x is equal to. \n",
    "\n",
    "x = .30\n",
    "\n",
    "\n",
    "delta = float(input(\"What is the delta? \\n\"))\n",
    "num = int(input(\"How many contracts are you looking to purchase? \\n\"))\n",
    "initial_ask_price = float(input(\"What is the initial ask price? \\n\"))\n",
    "strike_price = int(input('What is the price of the stock? \\n'))\n",
    "num_of_shares = num * 100\n",
    "money_per_dollar = round(delta * num_of_shares)\n",
    "initial_investement = (initial_ask_price * 100)*num\n",
    "profit = (initial_investement * x)\n",
    "move_needed = float(round(profit/money_per_dollar,2))\n",
    "sell_price = (strike_price - move_needed)\n",
    "percent_of_gain = (profit/initial_investement)*100\n",
    "bid_sell = (round(initial_ask_price * x) + initial_ask_price)\n",
    "\n",
    "\n",
    "print(\"\\nThe amount of profit in this trade is\" ,profit, \" \\nYour percent of gain is\", percent_of_gain, \"%\", \"relative to the initial investment of\" ,initial_investement)\n",
    "print(\"\\nYou make\", money_per_dollar, \"dollars per dollar movement. \\nTherefore you need to see a\", move_needed, \"dollar movement to a stock price of\",sell_price, \"or a bid price of\", bid_sell)\n",
    "\n",
    "\n",
    "\n",
    "\n",
    "\n"
   ]
  },
  {
   "cell_type": "markdown",
   "metadata": {},
   "source": [
    "### Understanding Theta "
   ]
  },
  {
   "cell_type": "code",
   "execution_count": null,
   "metadata": {},
   "outputs": [],
   "source": [
    "# For every day the option does not hit that strike price it will lose value. \n",
    "\n",
    "# Feb 11 27 days will lose value much quicker than march contracts. \n",
    "# -.34 theta\n",
    "# will lose 34 cents per contract on the daily\n",
    "# intrinsic value is value of options in the money. Never changes. \n",
    "# extrinsic value is 14.95\n",
    "\n",
    "\n",
    "# March 11 55 days \n",
    "# -.26 theta \n",
    "# will lose 26 cents per contract on the daily "
   ]
  },
  {
   "cell_type": "markdown",
   "metadata": {},
   "source": [
    "March 15 Apple Calls 150 strike price for $10.80\n",
    "\n",
    "theta = -.065 \n",
    "\n",
    "Price of March 15th, $150 strike call tomorrow \n",
    "This assumes all variables stay constant \n",
    "\n",
    "$10.80 - $.065 = $10.73 \n",
    "\n",
    "\n",
    "Option price = intrinsic value + extrinsic value \n",
    "\n",
    "Time decay only effects the extrinsic value of an option.\n",
    "Theta only applies to extrinsic value\n",
    "\n",
    "--------------------------------------------------------------\n",
    "For example - ITM\n",
    "\n",
    "Underlying stock trading at $22\n",
    "Call option w/ stirke price of $20\n",
    "\n",
    "We have $2.00 of intrinsic value (ITM)\n",
    "\n",
    "The actual option may trade at $2.50\n",
    "If we have $2.00 of intrinsic value\n",
    "\n",
    "That leaves us with $.50 of extrinsic value \n",
    "\n",
    "---------------------------------------------------------------\n",
    "\n",
    "For example - OTM \n",
    "\n",
    "Underlying stock trading at $20\n",
    "Call option w/ strike price of $22\n",
    "\n",
    "We have -$2.00 of intrinsic value  (OTM)\n",
    "\n",
    "The actual option may trade at $1.00\n",
    "$0.00 of intrinsic value\n",
    "\n",
    "That leaves us with $1.00 of extrinsic value \n",
    "\n",
    "\n"
   ]
  },
  {
   "cell_type": "code",
   "execution_count": 7,
   "metadata": {},
   "outputs": [],
   "source": [
    "import datetime \n",
    "import pandas as pd \n",
    "from matplotlib import pyplot as plt\n",
    "\n",
    "\n"
   ]
  },
  {
   "cell_type": "markdown",
   "metadata": {},
   "source": [
    "### Days Til Expiration "
   ]
  },
  {
   "cell_type": "code",
   "execution_count": 24,
   "metadata": {},
   "outputs": [
    {
     "name": "stdout",
     "output_type": "stream",
     "text": [
      "Enter a date in YYYY-MM-DD format \n",
      "2021-11-19\n",
      "Enter your theta as an integer: 99\n",
      "Enter the contract ask price as an integer: 14450\n",
      "What is the strike price? 3400\n",
      "\n",
      "The breakeven price for the CALL at expiration date is 3544.5\n"
     ]
    },
    {
     "data": {
      "image/png": "[encoded data removed]",
      "text/plain": [
       "<Figure size 1480x840 with 1 Axes>"
      ]
     },
     "metadata": {},
     "output_type": "display_data"
    }
   ],
   "source": [
    "date_entry = input('Enter a date in YYYY-MM-DD format \\n')\n",
    "year, month, day = map(int, date_entry.split('-'))\n",
    "expiration_date = datetime.date(year, month, day)\n",
    "\n",
    "purchase_date = datetime.date.today()\n",
    "\n",
    "def days_till():\n",
    "    till_expiration = purchase_date - expiration_date\n",
    "    global x\n",
    "    x = till_expiration.days\n",
    "    return(\"The amount of time remaining on this contract is \" + str(abs(x)) + ' days')\n",
    "\n",
    "till_expiration = purchase_date - expiration_date\n",
    "x = till_expiration.days\n",
    "\n",
    "time_range = pd.date_range(start= purchase_date, end= expiration_date)\n",
    "\n",
    "period = []\n",
    "for i in time_range:\n",
    "    period.append(i.strftime('%b-%d-%Y'))\n",
    "    \n",
    "    \n",
    "time_period = abs(x)\n",
    "theta = float(input(\"Enter your theta as an integer: \"))\n",
    "ask_price = float(input(\"Enter the contract ask price as an integer: \"))\n",
    "strike_price = int(input(\"What is the strike price? \"))\n",
    "\n",
    "lst = []\n",
    "\n",
    "def countdown(time_period, ask_price):\n",
    "    while time_period > -1:      \n",
    "        ask_price = ask_price - theta\n",
    "        lst.append(round(ask_price, 4))\n",
    "        time_period = time_period - 1\n",
    "    \n",
    "countdown(time_period, ask_price)\n",
    "\n",
    "days_till()\n",
    "\n",
    "plt.style.use('seaborn')\n",
    "plt.tight_layout()\n",
    "ax = plt.plot_date(period, lst, linestyle = 'solid')\n",
    "plt.gcf().autofmt_xdate()\n",
    "ax = plt.gca()\n",
    "for label in ax.get_xaxis().get_ticklabels()[::2]:\n",
    "    label.set_visible(False);\n",
    "    \n",
    "fig = plt.gcf()\n",
    "fig.set_size_inches(18.5, 10.5)\n",
    "\n",
    "font1 = {'family':'serif','color':'darkred','size':35}\n",
    "font2 = {'family':'serif','color':'darkred','size':35}\n",
    "\n",
    "plt.title(\"Option Time Decay\", fontdict = font1)\n",
    "plt.xlabel(\"Dates\", fontdict = font2)\n",
    "plt.ylabel(\"Contract Worth\", fontdict = font2)\n",
    "plt.grid(color = 'black', linestyle = '-', linewidth = 0.5)\n",
    "\n",
    "# -----------------------------\n",
    "\n",
    "def Call_BE(strike_price, ask_price):\n",
    "    BEP = strike_price + ask_price/100\n",
    "    print(\"\\nThe breakeven price for the CALL at expiration date is\", BEP)\n",
    "\n",
    "\n",
    "Call_BE(strike_price, ask_price)\n",
    "\n",
    "# figure out contract worth by adding (delta * the difference between ask price and BEP)\n",
    "# come up with increments that give numbers for where the stock price should be to break even"
   ]
  },
  {
   "cell_type": "code",
   "execution_count": 12,
   "metadata": {},
   "outputs": [
    {
     "name": "stdout",
     "output_type": "stream",
     "text": [
      "What is the strike price? 3400\n",
      "\n",
      "What is the ask price? 14450\n",
      "\n",
      "The breakeven price for the CALL at expiration date is 3544.5 and the initial cost of purchase is 14450\n"
     ]
    }
   ],
   "source": [
    "def Call_BE(strike_price, ask_price):\n",
    "    BEP = strike_price + ask_price/100\n",
    "    print(\"\\nThe breakeven price for the CALL at expiration date is\", BEP)\n",
    "\n",
    "\n",
    "Call_BE(strike_price, ask_price)\n",
    "\n",
    "# figure out contract worth by adding (delta * the difference between ask price and BEP)\n",
    "\n",
    "# must make BEP global variable \n",
    "\n",
    "\n"
   ]
  },
  {
   "cell_type": "code",
   "execution_count": null,
   "metadata": {},
   "outputs": [],
   "source": []
  },
  {
   "cell_type": "code",
   "execution_count": null,
   "metadata": {},
   "outputs": [],
   "source": [
    "cbar = plt.colorbar(shrink=0.8, orientation='horizontal', extend='both', pad=0.02)\n",
    "cbar.ax.tick_params(labelsize=8)\n",
    "\n",
    "for label in cbar.ax.xaxis.get_ticklabels()[::2]:\n",
    "    label.set_visible(False)"
   ]
  },
  {
   "cell_type": "code",
   "execution_count": null,
   "metadata": {},
   "outputs": [],
   "source": [
    "time_range = pd.date_range(start= purchase_date, end= expiration_date)\n",
    "\n",
    "period = []\n",
    "for i in time_range:\n",
    "    period.append(i.strftime('%b-%d-%Y'))\n",
    "    \n",
    "print(period)\n",
    "\n",
    "\n",
    "# next step, zip the period variable with the delta decay series "
   ]
  },
  {
   "cell_type": "code",
   "execution_count": null,
   "metadata": {},
   "outputs": [],
   "source": [
    "time_period = abs(x)\n",
    "theta = -.065\n",
    "ask_price = 10.80\n",
    "\n",
    "\n",
    "lst = []\n",
    "\n",
    "def countdown(time_period, ask_price):\n",
    "    while time_period > -1:      \n",
    "        ask_price = ask_price + theta\n",
    "        lst.append(round(ask_price, 4))\n",
    "        time_period = time_period - 1\n",
    "    \n",
    "countdown(time_period, ask_price)\n",
    "\n",
    "print(lst)"
   ]
  },
  {
   "cell_type": "code",
   "execution_count": null,
   "metadata": {},
   "outputs": [],
   "source": [
    "plt.style.use('seaborn')\n",
    "plt.tight_layout()\n",
    "ax = plt.plot_date(period, lst, linestyle = 'solid')\n",
    "plt.gcf().autofmt_xdate()\n",
    "ax = plt.gca()\n",
    "for label in ax.get_xaxis().get_ticklabels()[::2]:\n",
    "    label.set_visible(False);"
   ]
  },
  {
   "cell_type": "code",
   "execution_count": null,
   "metadata": {},
   "outputs": [],
   "source": []
  }
 ],
 "metadata": {
  "kernelspec": {
   "display_name": "Python 3",
   "language": "python",
   "name": "python3"
  },
  "language_info": {
   "codemirror_mode": {
    "name": "ipython",
    "version": 3
   },
   "file_extension": ".py",
   "mimetype": "text/x-python",
   "name": "python",
   "nbconvert_exporter": "python",
   "pygments_lexer": "ipython3",
   "version": "3.8.3"
  },
  "metadata": {
   "interpreter": {
    "hash": "aee8b7b246df8f9039afb4144a1f6fd8d2ca17a180786b69acc140d282b71a49"
   }
  }
 },
 "nbformat": 4,
 "nbformat_minor": 2
}
