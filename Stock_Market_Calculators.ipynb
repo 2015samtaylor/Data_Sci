{
 "cells": [
  {
   "cell_type": "markdown",
   "metadata": {},
   "source": [
    "### BORROWING ON MARGIN CALCULATOR"
   ]
  },
  {
   "cell_type": "code",
   "execution_count": 46,
   "metadata": {},
   "outputs": [
    {
     "name": "stdout",
     "output_type": "stream",
     "text": [
      "How much money is your loan? \n",
      "1\n",
      "At what margin rate will you be charged? Enter this number as a decimal point: \n",
      "1\n",
      "How long are you planning on holding this security? \n",
      "1\n",
      "\n",
      "Your loan amount was 1 dollars at a margin rate of 1.0 accumulating over 1 days\n",
      "\n",
      "Your accumulated interest over 1 days including weekends will be:  0.0\n"
     ]
    }
   ],
   "source": [
    "l = input(\"How much money is your loan? \\n\")\n",
    "m = input(\"At what margin rate will you be charged? Enter this number as a decimal point: \\n\")\n",
    "dh = input(\"How long are you planning on holding this security? \\n\")\n",
    "\n",
    "l = int(l)\n",
    "m = float(m)\n",
    "dh = int(dh)\n",
    "\n",
    "def loan_calculator(loan, margin, days_held):\n",
    "    x = (((loan * margin) / 360) * days_held)\n",
    "    print(\"Your accumulated interest over\",dh,\"days including weekends will be: \",round(x,2))\n",
    "\n",
    "\n",
    "print(\"\\nYour loan amount was\",l, \"dollars at a margin rate of\", m, \"accumulating over\",dh, \"days\\n\")\n",
    "loan_calculator(l, m, dh)"
   ]
  },
  {
   "cell_type": "code",
   "execution_count": null,
   "metadata": {},
   "outputs": [],
   "source": []
  },
  {
   "cell_type": "markdown",
   "metadata": {},
   "source": [
    "### BEP"
   ]
  },
  {
   "cell_type": "code",
   "execution_count": 47,
   "metadata": {},
   "outputs": [
    {
     "name": "stdout",
     "output_type": "stream",
     "text": [
      "What is the strike price? 100\n",
      "\n",
      "What is the purchase price? 12.25\n",
      "\n",
      "The breakeven price for the CALL at expiration date is 112.25 and the initial cost of purchase is 1225\n",
      "\n",
      "The breakeven price for the PUT at expiration date is 87.75  and the initial cost of purchase is 1225\n"
     ]
    }
   ],
   "source": [
    "#  Long call UPS Aug 210 Strike Price, Call @ $9.95\n",
    "# Maximum gain = unlimited\n",
    "# Maximum loss = $995 (9.95 option premium paid x 100 shares per contract)\n",
    "# Breakeven point = 219.95 (210 strike price + 9.95 option premium)\n",
    "# Therefore at the time of expiration, if the stock price is right at the breakeven price of 219.95, then the call purchae will not make or lose any money because the call will be worth exactly 9.95. \n",
    "\n",
    "\n",
    "strike_price = int(input(\"What is the strike price? \"))\n",
    "purchase_price = float(input(\"\\nWhat is the purchase price? \"))\n",
    "\n",
    "\n",
    "def Call_BE(strike_price, purchase_price):\n",
    "    BEP = strike_price + purchase_price\n",
    "    y =(round(purchase_price*100))\n",
    "    print(\"\\nThe breakeven price for the CALL at expiration date is\", BEP, \"and the initial cost of purchase is\",y)\n",
    "\n",
    "\n",
    "Call_BE(strike_price, purchase_price)\n",
    "\n",
    "\n",
    "def Put_BE(strike_price, purchase_price):\n",
    "    BEP = strike_price - purchase_price\n",
    "    z = (round(purchase_price*100))\n",
    "    print(\"\\nThe breakeven price for the PUT at expiration date is\", BEP, \" and the initial cost of purchase is\", z)\n",
    "\n",
    "Put_BE(strike_price, purchase_price)\n"
   ]
  },
  {
   "cell_type": "markdown",
   "metadata": {},
   "source": [
    "### CALL Limit sell at X% ROI"
   ]
  },
  {
   "cell_type": "code",
   "execution_count": 48,
   "metadata": {},
   "outputs": [
    {
     "name": "stdout",
     "output_type": "stream",
     "text": [
      "What is the delta? \n",
      ".55\n",
      "How many contracts are you looking to purchase? \n",
      "1\n",
      "What is the initial ask price? \n",
      "12.23\n",
      "What is the strike price? \n",
      "90\n",
      "\n",
      "\n",
      "The amount of profit in this trade is 366.9  \n",
      "Your percent of gain is 30.0 % relative to the initial investment of 1223.0\n",
      "\n",
      "You make 55 dollars per dollar movement. \n",
      "Therefore you need to see a 6.67 dollar movement to a stock price of 96.67 or a bid price of 16.23\n"
     ]
    }
   ],
   "source": [
    "# * To alter the profit margin, just change what the profit variable x is equal to. \n",
    "\n",
    "x = .30\n",
    "\n",
    "delta = float(input(\"What is the delta? \\n\"))\n",
    "num = int(input(\"How many contracts are you looking to purchase? \\n\"))\n",
    "initial_ask_price = float(input(\"What is the initial ask price? \\n\"))\n",
    "strike_price = int(input('What is the strike price? \\n'))\n",
    "num_of_shares = num * 100\n",
    "money_per_dollar = round(delta * num_of_shares)\n",
    "initial_investement = ((initial_ask_price * 100)*num)\n",
    "profit = (initial_investement * x)\n",
    "move_needed = float(round(profit/money_per_dollar,2))\n",
    "sell_price = (strike_price + move_needed)\n",
    "percent_of_gain = (profit/initial_investement)*100\n",
    "bid_sell = (round(initial_ask_price * x) + initial_ask_price)\n",
    "\n",
    "\n",
    "print(\"\\n\\nThe amount of profit in this trade is\" ,profit, \" \\nYour percent of gain is\", percent_of_gain, \"%\", \"relative to the initial investment of\" ,initial_investement)\n",
    "print(\"\\nYou make\", money_per_dollar, \"dollars per dollar movement. \\nTherefore you need to see a\", move_needed, \"dollar movement to a stock price of\",sell_price, \"or a bid price of\", bid_sell)\n",
    "\n"
   ]
  },
  {
   "cell_type": "markdown",
   "metadata": {},
   "source": [
    "### PUT Limit Sell at X% ROI"
   ]
  },
  {
   "cell_type": "code",
   "execution_count": 42,
   "metadata": {},
   "outputs": [
    {
     "name": "stdout",
     "output_type": "stream",
     "text": [
      "What is the delta? \n",
      ".55\n",
      "How many contracts are you looking to purchase? \n",
      "4\n",
      "What is the initial ask price? \n",
      "12.21\n",
      "What is the strike price? \n",
      "40\n",
      "\n",
      "The amount of profit in this trade is 1465.2  \n",
      "Your percent of gain is 30.0 % relative to the initial investment of 4884.0\n",
      "\n",
      "You make 220 dollars per dollar movement. \n",
      "Therefore you need to see a 6.66 dollar movement to a stock price of 33.34 or a bid price of 16.21\n"
     ]
    }
   ],
   "source": [
    "# * To alter the profit margin, just change what the profit variable x is equal to. \n",
    "\n",
    "x = .30\n",
    "\n",
    "\n",
    "delta = float(input(\"What is the delta? \\n\"))\n",
    "num = int(input(\"How many contracts are you looking to purchase? \\n\"))\n",
    "initial_ask_price = float(input(\"What is the initial ask price? \\n\"))\n",
    "strike_price = int(input('What is the strike price? \\n'))\n",
    "num_of_shares = num * 100\n",
    "money_per_dollar = round(delta * num_of_shares)\n",
    "initial_investement = (initial_ask_price * 100)*num\n",
    "profit = (initial_investement * x)\n",
    "move_needed = float(round(profit/money_per_dollar,2))\n",
    "sell_price = (strike_price - move_needed)\n",
    "percent_of_gain = (profit/initial_investement)*100\n",
    "bid_sell = (round(initial_ask_price * x) + initial_ask_price)\n",
    "\n",
    "\n",
    "print(\"\\nThe amount of profit in this trade is\" ,profit, \" \\nYour percent of gain is\", percent_of_gain, \"%\", \"relative to the initial investment of\" ,initial_investement)\n",
    "print(\"\\nYou make\", money_per_dollar, \"dollars per dollar movement. \\nTherefore you need to see a\", move_needed, \"dollar movement to a stock price of\",sell_price, \"or a bid price of\", bid_sell)\n",
    "\n",
    "\n",
    "\n",
    "\n",
    "\n"
   ]
  }
 ],
 "metadata": {
  "kernelspec": {
   "display_name": "Python 3",
   "language": "python",
   "name": "python3"
  },
  "language_info": {
   "codemirror_mode": {
    "name": "ipython",
    "version": 3
   },
   "file_extension": ".py",
   "mimetype": "text/x-python",
   "name": "python",
   "nbconvert_exporter": "python",
   "pygments_lexer": "ipython3",
   "version": "3.8.3"
  },
  "metadata": {
   "interpreter": {
    "hash": "aee8b7b246df8f9039afb4144a1f6fd8d2ca17a180786b69acc140d282b71a49"
   }
  }
 },
 "nbformat": 4,
 "nbformat_minor": 2
}
