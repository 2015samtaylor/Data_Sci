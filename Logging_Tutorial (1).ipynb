{
 "cells": [
  {
   "cell_type": "markdown",
   "id": "7d273de2",
   "metadata": {},
   "source": [
    "# Logging Levels"
   ]
  },
  {
   "cell_type": "code",
   "execution_count": null,
   "id": "2bf0bae2",
   "metadata": {},
   "outputs": [],
   "source": [
    "import logging \n",
    "# default level is set to warning. So it will catch everything at warning and above. \n",
    "\n",
    "\n",
    "#DEBUG - Detailed information, typically of interest only when diagnosing problems\n",
    "\n",
    "#INFO - Confirmation that things are working as expected\n",
    "\n",
    "#WARNING - An indication that something unexpected happened, or indicative of some problem in the near future ('e.g. disk space low')\n",
    "\n",
    "#ERROR - Due to a more serious problem, the software has not been able to perform some function\n",
    "\n",
    "#CRITICAL - A serious error, indicating that the program iteself may be unable to continue running \n",
    "\n",
    "# ---------------------\n",
    "# when importing other modules, they share the same logger. "
   ]
  },
  {
   "cell_type": "markdown",
   "id": "6f61bc36",
   "metadata": {},
   "source": [
    "# Debug Example"
   ]
  },
  {
   "cell_type": "code",
   "execution_count": null,
   "id": "93cb122e",
   "metadata": {},
   "outputs": [],
   "source": [
    "logging.basicConfig(level=logging.DEBUG)\n",
    "\n",
    "def add(x, y):\n",
    "    return(x + y)\n",
    "\n",
    "num_1 = 10\n",
    "num_2 = 5\n",
    "\n",
    "\n",
    "add_result = add(num_1, num_2)\n",
    "logging.debug('Add: {} + {} = {}'.format(num_1, num_2, add_result))"
   ]
  },
  {
   "cell_type": "markdown",
   "id": "494d849b",
   "metadata": {},
   "source": [
    "# Logging to a File"
   ]
  },
  {
   "cell_type": "code",
   "execution_count": 8,
   "id": "a2c7d973",
   "metadata": {},
   "outputs": [],
   "source": [
    "import logging\n",
    "\n",
    "logging.basicConfig(filename='scraper.log', level=logging.DEBUG,\n",
    "                   format='%(asctime)s: - %(message)s', datefmt='%d-%b-%y %H:%M:%S', force=True)\n",
    "\n",
    "\n",
    "\n",
    "def add(x, y):\n",
    "    return(x + y)\n",
    "\n",
    "num_1 = 10\n",
    "num_2 = 5\n",
    "\n",
    "\n",
    "add_result = add(num_1, num_2)\n",
    "logging.debug(add_result)\n",
    "\n",
    "# DEBUG will have 'add_result' in the log. INFO would not. "
   ]
  },
  {
   "cell_type": "markdown",
   "id": "b640de6f",
   "metadata": {},
   "source": [
    "# Logging Output of a Script to a File Using OOP"
   ]
  },
  {
   "cell_type": "code",
   "execution_count": null,
   "id": "6033c98a",
   "metadata": {},
   "outputs": [],
   "source": [
    "import logging \n",
    "\n",
    "logging.basicConfig(filename='employee.log', level=logging.INFO, format='%(levelname)s:%(message)s', force = True)\n",
    "\n",
    "class Employee:\n",
    "    \n",
    "    def __init__(self, first, last):\n",
    "        self.first = first\n",
    "        self.last = last\n",
    "        \n",
    "        logging.info('Created Employee: {} - {}'.format(self.fullname, self.email))\n",
    "        \n",
    "    @property\n",
    "    def email(self):\n",
    "        return('{}.{}@email.com'.format(self.first, self.last))\n",
    "    \n",
    "    @property\n",
    "    def fullname(self):\n",
    "        return('{} {}'.format(self.first, self.last))\n",
    "    \n",
    "\n",
    "first = Employee('Sam', 'Taylor')\n",
    "    \n",
    "    "
   ]
  }
 ],
 "metadata": {
  "kernelspec": {
   "display_name": "Python 3 (ipykernel)",
   "language": "python",
   "name": "python3"
  },
  "language_info": {
   "codemirror_mode": {
    "name": "ipython",
    "version": 3
   },
   "file_extension": ".py",
   "mimetype": "text/x-python",
   "name": "python",
   "nbconvert_exporter": "python",
   "pygments_lexer": "ipython3",
   "version": "3.9.7"
  }
 },
 "nbformat": 4,
 "nbformat_minor": 5
}
