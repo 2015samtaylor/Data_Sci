{
 "cells": [
  {
   "cell_type": "markdown",
   "id": "4dfcf748",
   "metadata": {},
   "source": [
    "# Classes & Instance Variables"
   ]
  },
  {
   "cell_type": "code",
   "execution_count": 52,
   "id": "45574822",
   "metadata": {},
   "outputs": [
    {
     "name": "stdout",
     "output_type": "stream",
     "text": [
      "Test User\n"
     ]
    }
   ],
   "source": [
    "class Employee:\n",
    "    \n",
    "    def __init__(self, first, last, pay):        #think of this method as initialized, methods in a class receive the instance automatically\n",
    "        self.first = first\n",
    "        self.last = last\n",
    "        self.pay = pay\n",
    "        self.email = first + '.' + last + '@company.com'\n",
    "    \n",
    "    def fullname(self):\n",
    "        return('{} {}'.format(self.first, self.last))    # creating method inside of class, must call with parantheses\n",
    "                                                        # self must be referenced inside. \n",
    "        \n",
    "print(emp_2.fullname())    "
   ]
  },
  {
   "cell_type": "code",
   "execution_count": 53,
   "id": "61a21b8c",
   "metadata": {},
   "outputs": [
    {
     "name": "stdout",
     "output_type": "stream",
     "text": [
      "Corey.Schafer@company.com\n"
     ]
    }
   ],
   "source": [
    "emp_1 = Employee('Corey', 'Schafer', 50000)             # when we pass in our variables we can leave off self, \n",
    "emp_2 = Employee('Test', 'User', 60000)                 # as it is passed automatically\n",
    "\n",
    "print(emp_1.email)"
   ]
  },
  {
   "cell_type": "code",
   "execution_count": 60,
   "id": "7f924047",
   "metadata": {},
   "outputs": [
    {
     "name": "stdout",
     "output_type": "stream",
     "text": [
      "Corey Schafer\n"
     ]
    }
   ],
   "source": [
    "# run the method using class name itself\n",
    "# when running from the class must manually pass in the instance as an argument. \n",
    "\n",
    "# this is actually what is going on in the background when we run emp_1.full_name()\n",
    "# it passes in emp_1 as self, that is why we have self in these methods. \n",
    "\n",
    "emp_1.fullname()\n",
    "print(Employee.fullname(emp_1))"
   ]
  },
  {
   "cell_type": "code",
   "execution_count": 54,
   "id": "89c2f615",
   "metadata": {},
   "outputs": [
    {
     "ename": "SyntaxError",
     "evalue": "invalid syntax (<ipython-input-54-b8700eb34912>, line 1)",
     "output_type": "error",
     "traceback": [
      "\u001b[0;36m  File \u001b[0;32m\"<ipython-input-54-b8700eb34912>\"\u001b[0;36m, line \u001b[0;32m1\u001b[0m\n\u001b[0;31m    ---------------------------------------------------------------------------\u001b[0m\n\u001b[0m                                                                               ^\u001b[0m\n\u001b[0;31mSyntaxError\u001b[0m\u001b[0;31m:\u001b[0m invalid syntax\n"
     ]
    }
   ],
   "source": [
    "# Error that occurrs when we forget to place self in the args for method inside class\n",
    "\n",
    "---------------------------------------------------------------------------\n",
    "TypeError                                 Traceback (most recent call last)\n",
    "<ipython-input-48-310f25d32625> in <module>\n",
    "      2         return('{} {}'.format(self.first, self.last))\n",
    "      3 \n",
    "----> 4 print(emp_2.fullname())\n",
    "\n",
    "TypeError: fullname() takes 0 positional arguments but 1 was given"
   ]
  },
  {
   "cell_type": "markdown",
   "id": "c8d37241",
   "metadata": {},
   "source": [
    "# OOP 2 - Class Variables Continued"
   ]
  },
  {
   "cell_type": "code",
   "execution_count": 100,
   "id": "11a2c8fa",
   "metadata": {},
   "outputs": [
    {
     "name": "stdout",
     "output_type": "stream",
     "text": [
      "1.04\n",
      "1.04\n",
      "1.04\n",
      "{'first': 'Corey', 'last': 'Schafer', 'pay': 50000, 'email': 'Corey.Schafer@company.com'}\n",
      "\n",
      " {'__module__': '__main__', 'num_of_emps': 2, 'raise_amount': 1.04, '__init__': <function Employee.__init__ at 0x7ffb6f788a60>, 'fullname': <function Employee.fullname at 0x7ffb6f788040>, 'apply_raise': <function Employee.apply_raise at 0x7ffb6f788940>, '__dict__': <attribute '__dict__' of 'Employee' objects>, '__weakref__': <attribute '__weakref__' of 'Employee' objects>, '__doc__': None}\n"
     ]
    }
   ],
   "source": [
    "class Employee:\n",
    "    \n",
    "    num_of_emps = 0\n",
    "    raise_amount = 1.04\n",
    "    \n",
    "    def __init__(self, first, last, pay):        \n",
    "        self.first = first\n",
    "        self.last = last\n",
    "        self.pay = pay\n",
    "        self.email = first + '.' + last + '@company.com'\n",
    "        \n",
    "        Employee.num_of_emps += 1\n",
    "    \n",
    "    def fullname(self):\n",
    "        return('{} {}'.format(self.first, self.last))   \n",
    "                                                    \n",
    "    def apply_raise(self):\n",
    "        self.pay = int(self.pay * self.raise_amount)\n",
    "        \n",
    "emp_1 = Employee('Corey', 'Schafer', 50000)             \n",
    "emp_2 = Employee('Test', 'User', 60000)  \n",
    "\n",
    "print(Employee.raise_amount)\n",
    "print(emp_1.raise_amount)\n",
    "print(emp_2.raise_amount)                   # class variable can be accessed through class & instances\n",
    "                                            # when we try to access an attribute on an instance it will first \n",
    "                                            # check if an instance takes that attribute. If not it will see\n",
    "                                            # see if the class or any class it inherits from takes that attribute\n",
    "            \n",
    "                                            # in this scenario we are accessing the classes raise amount attribute\n",
    "print(emp_1.__dict__)                       # this can be seen in the dictionaries below. The employee class dict\n",
    "print('\\n',Employee.__dict__)               # has an attribute of raise_amount"
   ]
  },
  {
   "cell_type": "code",
   "execution_count": 101,
   "id": "f11f2f7b",
   "metadata": {},
   "outputs": [
    {
     "name": "stdout",
     "output_type": "stream",
     "text": [
      "{'first': 'Corey', 'last': 'Schafer', 'pay': 50000, 'email': 'Corey.Schafer@company.com', 'raise_amount': 1.05}\n"
     ]
    }
   ],
   "source": [
    "# changing the raise amount using the class\n",
    "\n",
    "# Employee.raise_amount = 1.05           # this would impact all raise amounts, on the contrary if we use an instance...\n",
    "\n",
    "emp_1.raise_amount = 1.05               # this would only change the raise amount for emp_1\n",
    "print(emp_1.__dict__)                   # this is reflected in the dictionary"
   ]
  },
  {
   "cell_type": "code",
   "execution_count": 102,
   "id": "f99b7e73",
   "metadata": {},
   "outputs": [
    {
     "name": "stdout",
     "output_type": "stream",
     "text": [
      "2\n"
     ]
    }
   ],
   "source": [
    "# This variable was incremented twice when we instantiated both employees. \n",
    "\n",
    "print(Employee.num_of_emps)"
   ]
  },
  {
   "cell_type": "markdown",
   "id": "82a37f25",
   "metadata": {},
   "source": [
    "# Regular, Class, & Static Methods"
   ]
  },
  {
   "cell_type": "code",
   "execution_count": 117,
   "id": "a792461c",
   "metadata": {},
   "outputs": [
    {
     "name": "stdout",
     "output_type": "stream",
     "text": [
      "John.Doe@company.com\n",
      "70000\n"
     ]
    }
   ],
   "source": [
    "class Employee:\n",
    "    \n",
    "    num_of_emps = 0\n",
    "    raise_amount = 1.04\n",
    "    \n",
    "    def __init__(self, first, last, pay):        \n",
    "        self.first = first\n",
    "        self.last = last\n",
    "        self.pay = pay\n",
    "        self.email = first + '.' + last + '@company.com'\n",
    "        \n",
    "        Employee.num_of_emps += 1\n",
    "    \n",
    "    def fullname(self):\n",
    "        return('{} {}'.format(self.first, self.last))   \n",
    "                                                    \n",
    "    def apply_raise(self):\n",
    "        self.pay = int(self.pay * self.raise_amount)\n",
    "        \n",
    "    @classmethod                                             #decorators alter the functionality of our method to where\n",
    "    def set_raise_amt(cls, amount):                         # we receive the class as our first arg, instead of the instance\n",
    "        cls.raise_amt = amount                              # by convention cls is our class variable name\n",
    "        \n",
    "    @classmethod\n",
    "    def from_string(cls, emp_str):\n",
    "        first, last, pay = emp_str_1.split('-')            # creates a class which takes a string as input\n",
    "        return cls(first, last, pay)                       # splits the string on hyphens & return employee object\n",
    "    \n",
    "    \n",
    "        \n",
    "emp_1 = Employee('Corey', 'Schafer', 50000)             \n",
    "emp_2 = Employee('Test', 'User', 60000)  \n",
    "\n",
    "                                                            # use class method in order to provide multiple ways of\n",
    "                                                            # creating objects. For example, \n",
    "\n",
    "emp_str_1 = 'John-Doe-70000'\n",
    "emp_str_2 = 'Steve-Smith-30000'\n",
    "emp_str_3 = 'Jane-Doe-90000'\n",
    "\n",
    "\n",
    "new_emp_1 = Employee.from_string(emp_str_1)\n",
    "\n",
    "print(new_emp_1.email)                                       # class method is used as an alternative constructor\n",
    "print(new_emp_1.pay)"
   ]
  },
  {
   "cell_type": "code",
   "execution_count": 119,
   "id": "456939df",
   "metadata": {},
   "outputs": [
    {
     "name": "stdout",
     "output_type": "stream",
     "text": [
      "True\n"
     ]
    }
   ],
   "source": [
    "# Static Methods do not pass in self or cls\n",
    "\n",
    "class Employee:\n",
    "    \n",
    "    num_of_emps = 0\n",
    "    raise_amount = 1.04\n",
    "    \n",
    "    def __init__(self, first, last, pay):        \n",
    "        self.first = first\n",
    "        self.last = last\n",
    "        self.pay = pay\n",
    "        self.email = first + '.' + last + '@company.com'\n",
    "        \n",
    "        Employee.num_of_emps += 1\n",
    "    \n",
    "    def fullname(self):\n",
    "        return('{} {}'.format(self.first, self.last))   \n",
    "                                                    \n",
    "    def apply_raise(self):\n",
    "        self.pay = int(self.pay * self.raise_amount)\n",
    "        \n",
    "    @classmethod                                            \n",
    "    def set_raise_amt(cls, amount):                         \n",
    "        cls.raise_amt = amount                              \n",
    "        \n",
    "    @classmethod\n",
    "    def from_string(cls, emp_str):\n",
    "        first, last, pay = emp_str_1.split('-')            \n",
    "        return cls(first, last, pay)    \n",
    "    \n",
    "    @staticmethod                                   #static methods do not take the instance or the class as first arg\n",
    "    def is_workday(day):                                 # static methods do not operate on the instance or the class\n",
    "        if day.weekday() == 5 or day.weekday() == 6:\n",
    "            return False\n",
    "        else:\n",
    "            return True\n",
    "    \n",
    "    \n",
    "        \n",
    "emp_1 = Employee('Corey', 'Schafer', 50000)             \n",
    "emp_2 = Employee('Test', 'User', 60000)  \n",
    "\n",
    "import datetime\n",
    "my_date = datetime.date(2016, 7, 11)\n",
    "\n",
    "print(Employee.is_workday(my_date))\n",
    "                                                           \n",
    "                                                           "
   ]
  },
  {
   "cell_type": "markdown",
   "id": "49bf1094",
   "metadata": {},
   "source": [
    "# Inheritance - Creating Subclasses"
   ]
  },
  {
   "cell_type": "code",
   "execution_count": 128,
   "id": "409cf10c",
   "metadata": {},
   "outputs": [
    {
     "name": "stdout",
     "output_type": "stream",
     "text": [
      "Corey.Schafer@company.com\n",
      "Python\n"
     ]
    }
   ],
   "source": [
    "class Employee:\n",
    "    \n",
    "    raise_amount = 1.04\n",
    "    \n",
    "    def __init__(self, first, last, pay):        \n",
    "        self.first = first\n",
    "        self.last = last\n",
    "        self.pay = pay\n",
    "        self.email = first + '.' + last + '@company.com'\n",
    "    \n",
    "    def fullname(self):\n",
    "        return('{} {}'.format(self.first, self.last))   \n",
    "                                                    \n",
    "    def apply_raise(self):\n",
    "        self.pay = int(self.pay * self.raise_amount)\n",
    "        \n",
    "        \n",
    "class Developer(Employee):                                # By passing the Employee class in the args, we inherit\n",
    "    raise_amount = 1.10                                   # all of its functionality.\n",
    "    def __init__(self, first, last, pay, prog_lang):\n",
    "        super().__init__(first, last, pay)                # The super().__init__ method lets the Employee (parent)class  \n",
    "        self.prog_lang = prog_lang                        # handle those args. \n",
    "                                                          # prog_lang is being declared in the Developer class\n",
    "\n",
    "                                                          # developer class. Python then walks up the chain of inheritance\n",
    "dev_1 = Developer('Corey', 'Schafer', 50000, 'Python')    # until it finds what it is looking for. The chain is the method\n",
    "dev_2 = Developer('Test', 'User', 60000, 'Java')          # resolution order. \n",
    "\n",
    "# print(help(Developer))                                 # specifies the exact path, and methods involved in the class\n",
    "\n",
    "print(dev_1.email)                                         \n",
    "print(dev_1.prog_lang)                                         # by changing the raise amount in the devloper class (subclass)\n",
    "                                                        # it did not have any effect on employee instances.\n",
    "                                                        # The parent class is still intact\n",
    "        \n",
    "        \n",
    "        "
   ]
  },
  {
   "cell_type": "code",
   "execution_count": 143,
   "id": "0d992f91",
   "metadata": {},
   "outputs": [
    {
     "name": "stdout",
     "output_type": "stream",
     "text": [
      "Sue.Smith@company.com\n",
      "---> Corey Schafer\n"
     ]
    }
   ],
   "source": [
    "class Employee:\n",
    "    \n",
    "    raise_amount = 1.04\n",
    "    \n",
    "    def __init__(self, first, last, pay):        \n",
    "        self.first = first\n",
    "        self.last = last\n",
    "        self.pay = pay\n",
    "        self.email = first + '.' + last + '@company.com'\n",
    "    \n",
    "    def fullname(self):\n",
    "        return('{} {}'.format(self.first, self.last))   \n",
    "                                                    \n",
    "    def apply_raise(self):\n",
    "        self.pay = int(self.pay * self.raise_amount)\n",
    "        \n",
    "        \n",
    "class Developer(Employee):                                \n",
    "    raise_amount = 1.10                                   \n",
    "    def __init__(self, first, last, pay, prog_lang):\n",
    "        super().__init__(first, last, pay)                \n",
    "        self.prog_lang = prog_lang       \n",
    "\n",
    "class Manager(Employee):\n",
    "    \n",
    "    def __init__(self, first, last, pay, employees = None):      # Passed None instead of list because you never want\n",
    "        super().__init__(first, last, pay)                       # to pass in mutable arguments. \n",
    "        if employees is None:\n",
    "            self.employees = []                        \n",
    "        else:\n",
    "            self.employees = employees\n",
    "        \n",
    "    def add_emp(self, emp):\n",
    "        if emp not in self.employees:\n",
    "            self.employees.append(emp)\n",
    "            \n",
    "    def remove_emp(self, emp):\n",
    "        if emp in self.employees:\n",
    "            self.employees.remove(emp)\n",
    "            \n",
    "            \n",
    "    def print_employees(self):\n",
    "        for emp in self.employees:\n",
    "            print('--->',emp.fullname())\n",
    "\n",
    "\n",
    "                                                          \n",
    "dev_1 = Developer('Corey', 'Schafer', 50000, 'Python')    \n",
    "dev_2 = Developer('Test', 'User', 60000, 'Java')          \n",
    "\n",
    "\n",
    "mgr_1 = Manager('Sue', 'Smith', 90000, [dev_1])            # dev_1 is passed into the Manager class, & employees is\n",
    "#                                                          # registered as an argument from that class\n",
    "print(mgr_1.email)\n",
    "mgr_1.add_emp(dev_2)                                       # adds employee\n",
    "mgr_1.remove_emp(dev_2)\n",
    "mgr_1.print_employees()                                    # removes employee\n",
    "        \n",
    "        \n",
    "        "
   ]
  },
  {
   "cell_type": "code",
   "execution_count": 142,
   "id": "b4398a87",
   "metadata": {},
   "outputs": [
    {
     "name": "stdout",
     "output_type": "stream",
     "text": [
      "True\n",
      "True\n",
      "False\n",
      "True\n",
      "False\n"
     ]
    }
   ],
   "source": [
    "print(isinstance(mgr_1, Manager))                         # mgr_1 is an instance of Manager\n",
    "print(isinstance(mgr_1, Employee))                         # mgr_1 is an instance of Employee\n",
    "print(isinstance(mgr_1, Developer))                         # mgr_1 is not an instance of Developer\n",
    "\n",
    "\n",
    "print(issubclass(Developer, Employee))                    # Developer is a subclass of Employee\n",
    "print(issubclass(Manager, Developer))                     # Manager is not a subclass of Developer"
   ]
  },
  {
   "cell_type": "markdown",
   "id": "754fd357",
   "metadata": {},
   "source": [
    "# Property Decorators - Getters, Setters, & Deleters"
   ]
  },
  {
   "cell_type": "code",
   "execution_count": 161,
   "id": "b7cfc6ff",
   "metadata": {},
   "outputs": [
    {
     "name": "stdout",
     "output_type": "stream",
     "text": [
      "Corey\n",
      "Corey.Schafer@email.com\n",
      "Corey Schafer\n",
      "Delete Name!\n"
     ]
    }
   ],
   "source": [
    "class Employee:\n",
    "    \n",
    "    def __init__(self, first, last):        \n",
    "        self.first = first\n",
    "        self.last = last\n",
    "    \n",
    "    @property                                                     #  we are defining our email in our class like its a method, \n",
    "    def email(self):                                              # but we are able to access it like an attribute.\n",
    "        return('{}.{}@email.com'.format(self.first, self.last)) \n",
    "    @property\n",
    "    def fullname(self):\n",
    "        return('{} {}'.format(self.first, self.last)) \n",
    "    \n",
    "    @fullname.setter                                     #whenver we set emp_1.fullname to the name it came into the \n",
    "    def fullname(self, name):                           #setter and parsed the names from the value we set. Then\n",
    "        first, last = name.split(' ')                   # it set our first name, and last name. Email grabs from the same\n",
    "        self.first = first\n",
    "        self.last = last\n",
    "               \n",
    "    @fullname.deleter                                # Deleter works the same as a setter                 \n",
    "    def fullname(self):\n",
    "        print('Delete Name!')\n",
    "        self.first = None\n",
    "        self.last = None\n",
    "        \n",
    "emp_1 = Employee('John', 'Smith')\n",
    "emp_1.fullname = 'Corey Schafer'\n",
    "\n",
    "# emp_1.first = 'Jim'                                     # This will update the first name, but not the email\n",
    "                                                      # hence the need for a property decorator. This allows us\n",
    "print(emp_1.first)                                      # to define a method, where we can access like an attribute\n",
    "print(emp_1.email)\n",
    "print(emp_1.fullname)\n",
    "\n",
    "del emp_1.fullname"
   ]
  }
 ],
 "metadata": {
  "kernelspec": {
   "display_name": "Python 3",
   "language": "python",
   "name": "python3"
  },
  "language_info": {
   "codemirror_mode": {
    "name": "ipython",
    "version": 3
   },
   "file_extension": ".py",
   "mimetype": "text/x-python",
   "name": "python",
   "nbconvert_exporter": "python",
   "pygments_lexer": "ipython3",
   "version": "3.8.3"
  }
 },
 "nbformat": 4,
 "nbformat_minor": 5
}
