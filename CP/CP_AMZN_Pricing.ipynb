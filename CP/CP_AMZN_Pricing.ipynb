{
  "nbformat": 4,
  "nbformat_minor": 0,
  "metadata": {
    "colab": {
      "name": "CP_AMZN_Pricing.ipynb",
      "provenance": [],
      "collapsed_sections": [],
      "authorship_tag": "ABX9TyOjbK3gibVxVVlMkyQ73jxz",
      "include_colab_link": true
    },
    "kernelspec": {
      "name": "python3",
      "display_name": "Python 3"
    },
    "language_info": {
      "name": "python"
    }
  },
  "cells": [
    {
      "cell_type": "markdown",
      "metadata": {
        "id": "view-in-github",
        "colab_type": "text"
      },
      "source": [
        "<a href=\"https://colab.research.google.com/github/2015samtaylor/Data_Sci/blob/main/CP_AMZN_Pricing.ipynb\" target=\"_parent\"><img src=\"https://colab.research.google.com/assets/colab-badge.svg\" alt=\"Open In Colab\"/></a>"
      ]
    },
    {
      "cell_type": "code",
      "execution_count": null,
      "metadata": {
        "colab": {
          "base_uri": "https://localhost:8080/"
        },
        "cellView": "form",
        "id": "mzskQtEz738F",
        "outputId": "db8289f0-03ba-43f0-cd36-78a12da5809d"
      },
      "outputs": [
        {
          "output_type": "stream",
          "name": "stdout",
          "text": [
            "Drive already mounted at /content/drive; to attempt to forcibly remount, call drive.mount(\"/content/drive\", force_remount=True).\n",
            "/content/drive/My Drive/CP_AMZN_Pricing\n",
            "\n",
            "\n",
            "----The number of instances where transport works billed more than rate table :  0 out of  2359  orders---\n"
          ]
        }
      ],
      "source": [
        "#@title AMZN SHIPPING\n",
        "\n",
        "import pandas as pd\n",
        "import numpy as np\n",
        "import warnings\n",
        "import matplotlib.pyplot as plt\n",
        "%matplotlib inline\n",
        "from google.colab import drive\n",
        "drive.mount('/content/drive', force_remount= False)\n",
        "%cd /content/drive/My Drive/CP_AMZN_Pricing\n",
        "\n",
        "df_2 = pd.read_csv('Custom Planet Invoice file 4.11.22.csv')\n",
        "packages = pd.read_csv('Amazon Shipping Prices - package.csv')\n",
        "flats = pd.read_csv('Amazon Shipping Prices - flats.csv')\n",
        "\n",
        "dic = {'envelope' : 'flats', 'box' : 'package'}\n",
        "df_2['type'] = df_2['type'].replace(dic)\n",
        "\n",
        "\n",
        "df_2[' Shipping Charge '] = (df_2[' Shipping Charge '].str.replace('$', '', regex = True)).astype(float)\n",
        "\n",
        "compare = []\n",
        "\n",
        "list_len = len(df_2)\n",
        "i = 0\n",
        "while i < list_len:\n",
        "    \n",
        "    ship, weight_type, charge_weight, zone = df_2.iloc[i][['type', 'Weight Type', 'Charge Weight', 'Zone']]\n",
        "\n",
        "    if ship == 'flats':\n",
        "        x = flats\n",
        "    else:\n",
        "        x = packages\n",
        "\n",
        "    output = x.loc[(x['Weight'] == charge_weight) & (x['oz or lb'] == weight_type )]\n",
        "    o = list(output['Zone ' + str(zone)])\n",
        "    compare.append(o)\n",
        "\n",
        "    i += 1 \n",
        "\n",
        "o = pd.DataFrame(compare, columns = ['Shipping Rate Table'])  \n",
        "final = pd.concat([df_2, o], axis = 1)\n",
        "final['Validity'] = final[' Shipping Charge '] - final['Shipping Rate Table']\n",
        "final.rename(columns = {' Shipping Charge ': 'Transport Works Bill'}, inplace = True)\n",
        "\n",
        "z = (final['Validity'] == 0.00).value_counts()\n",
        "new_index = ['Losing Money Shipping', 'Accurate']\n",
        "z = z.to_frame().reset_index()\n",
        "values = ['Accurate', 'Losing Money']\n",
        "z['index'] = values\n",
        "z = z.set_index('index')\n",
        "\n",
        "errors = final.loc[(final['Validity'] != 0.00)]\n",
        "no_errors = final.loc[(final['Validity'] == 0.00)]\n",
        "AMZN_greater = final.loc[(final['Validity'] > 0.00)]\n",
        "len(AMZN_greater)\n",
        "\n",
        "\n",
        "print('\\n\\n----The number of instances where transport works billed more than rate table : ', len(AMZN_greater), 'out of ', len(final), ' orders---')"
      ]
    },
    {
      "cell_type": "code",
      "source": [
        "#@title Where Shipping is Losing Money \n",
        "\n",
        "\n",
        "errors = final.loc[(final['Validity'] != 0.00)]\n",
        "no_errors = final.loc[(final['Validity'] == 0.00)]\n",
        "errors['type'].value_counts()[:].plot(kind = 'barh')\n",
        "fig = plt.gcf()\n",
        "fig.set_size_inches(10,7)\n",
        "plt.title('Shipping Type Losing Money', fontsize = 20)\n",
        "plt.ylabel('', fontsize= 20)\n",
        "plt.yticks(fontsize = 20)\n",
        "plt.xticks(fontsize = 20)\n",
        "\n",
        "\n",
        "z.plot(kind = 'barh',legend = False)\n",
        "fig = plt.gcf()\n",
        "fig.set_size_inches(10,7)\n",
        "plt.title('Total Orders', fontsize = 20)\n",
        "plt.ylabel('', fontsize= 20)\n",
        "plt.yticks(fontsize = 20)\n",
        "plt.xticks(fontsize = 20);"
      ],
      "metadata": {
        "cellView": "form",
        "colab": {
          "base_uri": "https://localhost:8080/",
          "height": 898
        },
        "id": "3FzlTUG78D3h",
        "outputId": "8ddf78cb-0369-49c8-fa41-f5760caafe48"
      },
      "execution_count": null,
      "outputs": [
        {
          "output_type": "display_data",
          "data": {
            "text/plain": [
              "<Figure size 720x504 with 1 Axes>"
            ],
            "image/png": "[encoded data removed]"
          },
          "metadata": {
            "needs_background": "light"
          }
        },
        {
          "output_type": "display_data",
          "data": {
            "text/plain": [
              "<Figure size 720x504 with 1 Axes>"
            ],
            "image/png": "[encoded data removed]"
          },
          "metadata": {
            "needs_background": "light"
          }
        }
      ]
    },
    {
      "cell_type": "code",
      "source": [
        "#@title EXPORTING FILES TO DRIVE\n",
        "\n",
        "errors.to_csv('/content/drive/My Drive/CP_AMZN_Pricing/shipping_inaccuracies.csv', index = False, )\n",
        "# no_errors\n",
        "\n",
        "# final"
      ],
      "metadata": {
        "cellView": "form",
        "id": "-crcGH8a8IgN"
      },
      "execution_count": null,
      "outputs": []
    }
  ]
}
